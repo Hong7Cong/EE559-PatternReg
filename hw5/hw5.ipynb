{
 "cells": [
  {
   "cell_type": "code",
   "execution_count": 87,
   "metadata": {},
   "outputs": [],
   "source": [
    "import numpy as np\n",
    "import pandas as pd\n",
    "import random"
   ]
  },
  {
   "cell_type": "markdown",
   "metadata": {},
   "source": [
    "Import data"
   ]
  },
  {
   "cell_type": "code",
   "execution_count": 88,
   "metadata": {},
   "outputs": [],
   "source": [
    "train_data = pd.read_csv(\"h5w7_pr1_power_train.csv\")\n",
    "test_data = pd.read_csv(\"h5w7_pr1_power_test.csv\")"
   ]
  },
  {
   "cell_type": "code",
   "execution_count": 89,
   "metadata": {},
   "outputs": [],
   "source": [
    "train_data.insert(0, 'b', np.ones(train_data.shape[0]))\n",
    "test_data.insert(0, 'b', np.ones(test_data.shape[0]))\n",
    "X_train, y_train = train_data.iloc[:,:5].to_numpy(), train_data[\"PE\"].to_numpy()\n",
    "X_test, y_test = train_data.iloc[:,:5].to_numpy(), train_data[\"PE\"].to_numpy()\n"
   ]
  },
  {
   "cell_type": "code",
   "execution_count": 90,
   "metadata": {},
   "outputs": [
    {
     "data": {
      "text/plain": [
       "array([[1.   , 0.405, 0.448, 0.984, 0.654],\n",
       "       [1.   , 0.413, 0.523, 0.981, 0.727],\n",
       "       [1.   , 0.673, 0.564, 0.98 , 0.439],\n",
       "       ...,\n",
       "       [1.   , 0.503, 0.553, 0.986, 0.668],\n",
       "       [1.   , 0.419, 0.562, 0.992, 0.816],\n",
       "       [1.   , 0.555, 0.623, 0.975, 0.767]])"
      ]
     },
     "execution_count": 90,
     "metadata": {},
     "output_type": "execute_result"
    }
   ],
   "source": [
    "X_train"
   ]
  },
  {
   "cell_type": "markdown",
   "metadata": {},
   "source": [
    "Shuffle data"
   ]
  },
  {
   "cell_type": "code",
   "execution_count": 91,
   "metadata": {},
   "outputs": [],
   "source": [
    "#Shuffle the trainning data\n",
    "random.seed(4)\n",
    "idx = np.arange(len(X_train))\n",
    "random.shuffle(idx)\n",
    "X_train = X_train[idx]\n",
    "y_train = y_train[idx]"
   ]
  },
  {
   "cell_type": "markdown",
   "metadata": {},
   "source": [
    "Tranform x to argument space"
   ]
  },
  {
   "cell_type": "markdown",
   "metadata": {},
   "source": [
    "Initialization"
   ]
  },
  {
   "cell_type": "code",
   "execution_count": 152,
   "metadata": {},
   "outputs": [],
   "source": [
    "def predict(w,x):\n",
    "    return np.dot(w,x)\n",
    "\n",
    "def eta(i,A,B):\n",
    "    return A/(B+i)"
   ]
  },
  {
   "cell_type": "code",
   "execution_count": 116,
   "metadata": {},
   "outputs": [],
   "source": [
    "epoch           = 100\n",
    "N               = X_train.shape[0]\n",
    "A               = [0.001, 0.1, 1, 10, 100]\n",
    "B               = [1, 10, 100, 1000]\n",
    "w_init          = np.random.uniform(-0.1, 0.1, 5)\n",
    "J_init          = np.sum(np.power(predict(w_init,X_train.T) - y_train, 2))/N"
   ]
  },
  {
   "cell_type": "code",
   "execution_count": 164,
   "metadata": {},
   "outputs": [
    {
     "data": {
      "text/plain": [
       "454.2439838110133"
      ]
     },
     "execution_count": 164,
     "metadata": {},
     "output_type": "execute_result"
    }
   ],
   "source": [
    "error_rms       = np.zeros(epoch)\n",
    "error_rms[0]    = np.power(J_init, 0.5)\n",
    "error_rms[0]"
   ]
  },
  {
   "cell_type": "code",
   "execution_count": 171,
   "metadata": {},
   "outputs": [
    {
     "name": "stdout",
     "output_type": "stream",
     "text": [
      "halting condition 2 is met\n"
     ]
    },
    {
     "data": {
      "text/plain": [
       "array([454.24398381,  25.11850661,  21.86239778,  20.47507937,\n",
       "        19.63513197,  19.04214589,  18.5877028 ,  18.22163515,\n",
       "        17.91669412,  17.65640252,  17.43003607,  17.2302367 ,\n",
       "        17.05175017,  16.89070377,  16.74416776,  16.60987672,\n",
       "        16.48604568,  16.37124515,  16.2643139 ,  16.16429667,\n",
       "        16.07039876,  15.98195238,  15.89839136,  15.81923169,\n",
       "        15.74405657,  15.67250464,  15.60426065,  15.53904803,\n",
       "        15.47662289,  15.41676908,  15.3592942 ,  15.30402627,\n",
       "        15.25081099,  15.19950937,  15.14999585,  15.10215658,\n",
       "        15.05588807,  15.01109596,  14.96769397,  14.92560306,\n",
       "        14.8847506 ,  14.84506972,  14.80649874,  14.76898062,\n",
       "        14.73246254,  14.69689547,  14.66223383,  14.6284352 ,\n",
       "        14.59546001,  14.56327127,  14.53183443,  14.50111709,\n",
       "        14.47108886,  14.44172123,  14.41298736,  14.384862  ,\n",
       "        14.35732133,  14.3303429 ,  14.30390549,  14.27798903,\n",
       "        14.25257455,  14.22764406,  14.20318049,  14.17916767,\n",
       "        14.15559021,  14.1324335 ,  14.10968364,  14.08732737,\n",
       "        14.06535209,  14.04374575,  14.02249688,  14.0015945 ,\n",
       "        13.98102815,  13.9607878 ,  13.94086387,  13.92124717,\n",
       "        13.90192893,  13.88290069,  13.8641544 ,  13.84568229,\n",
       "        13.82747691,  13.80953111,  13.79183802,  13.77439103,\n",
       "        13.75718378,  13.74021014,  13.72346422,  13.70694035,\n",
       "        13.69063305,  13.67453704,  13.65864724,  13.64295873,\n",
       "        13.62746677,  13.61216678,  13.59705434,  13.58212517,\n",
       "        13.56737514,  13.55280024,  13.53839661,  13.5241605 ])"
      ]
     },
     "execution_count": 171,
     "metadata": {},
     "output_type": "execute_result"
    }
   ],
   "source": [
    "w = w_init\n",
    "J = J_init\n",
    "for e in range(1,100):\n",
    "    for n in range(N):\n",
    "        i = (e-1)*N + n\n",
    "        w = w - eta(i,10,100)*(predict(w,X_train[n])-y_train[n])*X_train[n]\n",
    "        # print(w, \"\\n\")\n",
    "    J = np.sum(np.power(predict(w,X_train.T) - y_train, 2))/N\n",
    "    error_rms[e] = np.power(J, 0.5)\n",
    "    if(error_rms[e] < 0.001*error_rms[0]):\n",
    "        print(\"halting condition 1 is met\")\n",
    "        break\n",
    "    if(e == 99):\n",
    "        print(\"halting condition 2 is met\")\n",
    "        break\n",
    "error_rms"
   ]
  },
  {
   "cell_type": "code",
   "execution_count": 155,
   "metadata": {},
   "outputs": [
    {
     "data": {
      "text/plain": [
       "array([148.7884842 ,  51.46478363,  73.09023887, 146.48809959,\n",
       "       109.34405316])"
      ]
     },
     "execution_count": 155,
     "metadata": {},
     "output_type": "execute_result"
    }
   ],
   "source": [
    "error_rms"
   ]
  },
  {
   "cell_type": "code",
   "execution_count": 126,
   "metadata": {},
   "outputs": [
    {
     "data": {
      "text/plain": [
       "array([6413.77884407, 3947.39579977, 3952.35120678, 6329.08803404,\n",
       "       4034.1766078 ])"
      ]
     },
     "execution_count": 126,
     "metadata": {},
     "output_type": "execute_result"
    }
   ],
   "source": [
    "i = 5\n",
    "w = w - eta(i)*(predict(w,X_train[i])-y_train[i])*X_train[i]\n",
    "w"
   ]
  },
  {
   "cell_type": "code",
   "execution_count": 123,
   "metadata": {},
   "outputs": [
    {
     "data": {
      "text/plain": [
       "array([-431.45884218,    2.14439933, -201.12286486, -429.49913647,\n",
       "       -607.30416707])"
      ]
     },
     "execution_count": 123,
     "metadata": {},
     "output_type": "execute_result"
    }
   ],
   "source": [
    "w"
   ]
  },
  {
   "cell_type": "code",
   "execution_count": 109,
   "metadata": {},
   "outputs": [
    {
     "data": {
      "text/plain": [
       "206445.27684079536"
      ]
     },
     "execution_count": 109,
     "metadata": {},
     "output_type": "execute_result"
    }
   ],
   "source": [
    "np.sum(np.power(predict(w,X_train.T) - y_train, 2))/N"
   ]
  },
  {
   "cell_type": "code",
   "execution_count": 70,
   "metadata": {},
   "outputs": [
    {
     "data": {
      "text/plain": [
       "array([-471.01097038, -194.52753077, -246.33873751, -462.06176194,\n",
       "       -342.42497546])"
      ]
     },
     "execution_count": 70,
     "metadata": {},
     "output_type": "execute_result"
    }
   ],
   "source": [
    "eta*(predict(w,X_train[1])-y_train[1])*X_train[1]"
   ]
  },
  {
   "cell_type": "code",
   "execution_count": 112,
   "metadata": {},
   "outputs": [
    {
     "data": {
      "text/plain": [
       "array([[1.   , 0.636, 0.736, 0.979, 0.643],\n",
       "       [1.   , 0.493, 0.559, 0.985, 0.587],\n",
       "       [1.   , 0.252, 0.514, 0.99 , 0.984],\n",
       "       ...,\n",
       "       [1.   , 0.179, 0.483, 0.98 , 0.752],\n",
       "       [1.   , 0.447, 0.511, 0.986, 0.861],\n",
       "       [1.   , 0.334, 0.49 , 0.978, 1.   ]])"
      ]
     },
     "execution_count": 112,
     "metadata": {},
     "output_type": "execute_result"
    }
   ],
   "source": [
    "X_train"
   ]
  }
 ],
 "metadata": {
  "interpreter": {
   "hash": "31969b385aa08a02107f5de2e753c41beef24e90f052bcce65562ae8685b1e89"
  },
  "kernelspec": {
   "display_name": "Python 3.9.7 ('tsa')",
   "language": "python",
   "name": "python3"
  },
  "language_info": {
   "codemirror_mode": {
    "name": "ipython",
    "version": 3
   },
   "file_extension": ".py",
   "mimetype": "text/x-python",
   "name": "python",
   "nbconvert_exporter": "python",
   "pygments_lexer": "ipython3",
   "version": "3.9.7"
  },
  "orig_nbformat": 4
 },
 "nbformat": 4,
 "nbformat_minor": 2
}
