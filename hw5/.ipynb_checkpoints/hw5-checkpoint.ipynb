{
 "cells": [
  {
   "cell_type": "code",
   "execution_count": 277,
   "metadata": {},
   "outputs": [],
   "source": [
    "import numpy as np\n",
    "import pandas as pd\n",
    "import random\n",
    "import itertools\n",
    "import matplotlib.pyplot as plt"
   ]
  },
  {
   "cell_type": "code",
   "execution_count": 188,
   "metadata": {},
   "outputs": [
    {
     "data": {
      "text/plain": [
       "array([0, 1, 2, 3, 4])"
      ]
     },
     "execution_count": 188,
     "metadata": {},
     "output_type": "execute_result"
    }
   ],
   "source": [
    "np.arange(0,5)"
   ]
  },
  {
   "cell_type": "markdown",
   "metadata": {},
   "source": [
    "Import data"
   ]
  },
  {
   "cell_type": "code",
   "execution_count": 265,
   "metadata": {},
   "outputs": [],
   "source": [
    "train_data = pd.read_csv(\"h5w7_pr1_power_train.csv\")\n",
    "test_data = pd.read_csv(\"h5w7_pr1_power_test.csv\")"
   ]
  },
  {
   "cell_type": "code",
   "execution_count": 266,
   "metadata": {},
   "outputs": [],
   "source": [
    "train_data.insert(0, 'b', np.ones(train_data.shape[0]))\n",
    "test_data.insert(0, 'b', np.ones(test_data.shape[0]))\n",
    "X_train, y_train = train_data.iloc[:,:5].to_numpy(), train_data[\"PE\"].to_numpy()\n",
    "X_test, y_test = train_data.iloc[:,:5].to_numpy(), train_data[\"PE\"].to_numpy()\n"
   ]
  },
  {
   "cell_type": "code",
   "execution_count": 260,
   "metadata": {},
   "outputs": [
    {
     "data": {
      "text/plain": [
       "array([0.94747475, 0.95151515, 0.91515152, 0.89494949, 0.90909091,\n",
       "       0.8969697 , 0.91111111, 0.88888889, 0.87272727, 0.96565657,\n",
       "       0.90505051, 0.90909091, 0.93333333, 0.95757576, 0.93131313,\n",
       "       0.88282828, 0.89090909, 0.96161616, 0.9030303 , 0.92121212,\n",
       "       0.96565657, 0.88282828, 0.9030303 , 0.88686869, 0.91515152,\n",
       "       0.8969697 , 0.93939394, 0.95353535, 0.98787879, 0.95757576,\n",
       "       0.91919192, 0.98383838, 0.9030303 , 0.93737374, 0.96767677,\n",
       "       0.91515152, 0.8989899 , 0.90707071, 0.95353535, 0.87676768,\n",
       "       0.88686869, 0.87070707, 0.91717172, 0.87272727, 0.9030303 ,\n",
       "       0.90707071, 0.9030303 , 0.97171717, 0.93333333, 0.93535354,\n",
       "       0.86868687, 0.87676768, 0.98787879, 0.86666667, 0.91111111,\n",
       "       0.91515152, 0.93939394, 0.89090909, 0.94343434, 0.87272727,\n",
       "       0.93535354, 0.96363636, 0.87676768, 0.92727273, 0.94141414,\n",
       "       0.92929293, 0.87474747, 0.94747475, 0.88888889, 0.9030303 ,\n",
       "       0.96161616, 0.89292929, 0.95151515, 0.89494949, 0.98383838,\n",
       "       0.89494949, 0.88686869, 0.89494949, 0.88686869, 0.8989899 ,\n",
       "       0.91313131, 0.89494949, 0.87878788, 0.88282828, 0.93333333,\n",
       "       0.94141414, 0.88484848, 0.94141414, 0.94949495, 0.86868687,\n",
       "       0.93333333, 0.97171717, 0.9010101 , 0.88080808, 0.89292929,\n",
       "       0.87070707, 0.91313131, 0.97777778, 0.9010101 , 0.92121212,\n",
       "       0.9010101 , 0.95151515, 0.8989899 , 0.97575758, 0.91717172,\n",
       "       0.95151515, 0.88888889, 0.89292929, 0.98787879, 0.95757576,\n",
       "       0.87070707, 0.90909091, 0.88080808, 0.86868687, 0.89494949,\n",
       "       0.92525253, 0.88888889, 0.90505051, 0.91717172, 0.97575758,\n",
       "       0.95151515, 0.89494949, 0.99191919, 0.88888889, 0.94343434,\n",
       "       0.88282828, 0.86868687, 0.8989899 , 0.87676768, 0.94141414,\n",
       "       0.9030303 , 0.91313131, 0.95151515, 0.94747475, 0.91111111,\n",
       "       0.90909091, 0.90505051, 0.94343434, 0.95151515, 0.89494949,\n",
       "       0.89292929, 0.94343434, 0.91313131, 0.8989899 , 0.87676768,\n",
       "       0.97777778, 0.86666667, 0.96565657, 0.92525253, 0.87070707,\n",
       "       0.87474747, 0.87272727, 0.88686869, 0.88888889, 0.87474747,\n",
       "       0.92727273, 0.87676768, 0.88080808, 0.89494949, 0.92727273,\n",
       "       0.93737374, 0.95959596, 0.95151515, 0.89090909, 0.91717172,\n",
       "       0.86868687, 0.95151515, 0.86666667, 0.97171717, 0.93737374,\n",
       "       0.93535354, 0.8969697 , 0.87272727, 0.87878788, 0.95757576,\n",
       "       0.93333333, 0.94747475, 0.9030303 , 0.97373737, 0.87878788,\n",
       "       0.94343434, 0.91717172, 0.94343434, 0.96565657, 0.89494949,\n",
       "       0.9030303 , 0.88484848, 0.91717172, 0.88080808, 0.95353535,\n",
       "       0.93939394, 0.92525253, 0.89292929, 0.91313131, 0.97171717,\n",
       "       0.93535354, 0.95555556, 0.97979798, 0.87878788, 0.91717172,\n",
       "       0.89494949, 0.89292929, 0.97373737, 0.88686869, 0.94949495,\n",
       "       0.87676768, 0.98989899, 0.87474747, 0.91717172, 0.91717172,\n",
       "       0.88282828, 0.87878788, 0.95757576, 0.98989899, 0.88282828,\n",
       "       0.89090909, 0.87272727, 0.92323232, 0.93737374, 0.88282828,\n",
       "       0.96565657, 0.91313131, 0.88080808, 0.92929293, 0.88484848,\n",
       "       0.97979798, 0.88484848, 0.93333333, 0.92727273, 0.93737374,\n",
       "       0.93535354, 0.94747475, 0.8989899 , 0.98181818, 0.88686869,\n",
       "       0.89090909, 0.92323232, 0.87474747, 0.88282828, 0.87070707,\n",
       "       0.93535354, 0.9010101 , 0.90707071, 0.92929293, 0.88484848,\n",
       "       0.95555556, 0.8989899 , 0.95757576, 0.94343434, 0.91313131,\n",
       "       0.87474747, 0.91919192, 0.87272727, 0.96565657, 0.87272727,\n",
       "       0.92929293, 0.96161616, 0.88080808, 0.89494949, 0.86868687,\n",
       "       0.97171717, 0.88888889, 0.9010101 , 0.9010101 , 0.95959596,\n",
       "       0.92323232, 0.9010101 , 0.97373737, 0.9010101 , 0.90707071,\n",
       "       0.8989899 , 0.92727273, 0.88080808, 0.96969697, 0.95555556,\n",
       "       0.91717172, 0.88888889, 0.8989899 , 0.92929293, 0.8969697 ,\n",
       "       0.87474747, 0.92727273, 0.93131313, 0.88484848, 0.93333333,\n",
       "       0.88484848, 0.9010101 , 0.87272727, 0.95959596, 0.93737374,\n",
       "       0.88080808, 0.95959596, 0.86262626, 0.96767677, 0.88686869,\n",
       "       0.95757576, 0.94343434, 0.94343434, 0.88282828, 0.95151515,\n",
       "       0.92121212, 0.88484848, 0.88080808, 0.89494949, 0.92323232,\n",
       "       0.91111111, 0.92727273, 0.93333333, 0.94747475, 0.88282828,\n",
       "       0.92525253, 0.87474747, 0.88282828, 0.96565657, 0.87474747,\n",
       "       0.90505051, 0.94949495, 0.92929293, 0.94545455, 0.88282828,\n",
       "       0.91919192, 0.91111111, 0.93131313, 0.95353535, 0.8989899 ,\n",
       "       0.96969697, 0.9010101 , 0.98585859, 0.9030303 , 0.89292929,\n",
       "       0.91919192, 0.95555556, 0.95959596, 0.88282828, 0.96565657,\n",
       "       0.87878788, 0.88484848, 0.87676768, 0.96969697, 0.92121212,\n",
       "       0.89292929, 0.92121212, 1.        , 0.9010101 , 0.87878788,\n",
       "       0.87070707, 0.91111111, 0.9030303 , 0.90707071, 0.87878788,\n",
       "       0.97575758, 0.95555556, 0.87676768, 0.89292929, 0.96161616,\n",
       "       0.94545455, 0.93939394, 0.9010101 , 0.86464646, 0.90707071,\n",
       "       0.99191919, 0.91515152, 0.91717172, 0.89090909, 0.88282828,\n",
       "       0.93131313, 0.92929293, 0.96363636, 0.87474747, 0.97373737,\n",
       "       0.90909091, 0.94343434, 0.93333333, 0.95353535, 0.91515152])"
      ]
     },
     "execution_count": 260,
     "metadata": {},
     "output_type": "execute_result"
    }
   ],
   "source": [
    "# #scale the y_train\n",
    "# scaler_y = max(y_train)\n",
    "# y_train = y_train/scaler_y\n",
    "# y_train"
   ]
  },
  {
   "cell_type": "markdown",
   "metadata": {},
   "source": [
    "Shuffle data"
   ]
  },
  {
   "cell_type": "code",
   "execution_count": 243,
   "metadata": {},
   "outputs": [],
   "source": [
    "#Shuffle the trainning data\n",
    "random.seed(4)\n",
    "idx = np.arange(len(X_train))\n",
    "random.shuffle(idx)\n",
    "X_train = X_train[idx]\n",
    "y_train = y_train[idx]"
   ]
  },
  {
   "cell_type": "markdown",
   "metadata": {},
   "source": [
    "Tranform x to argument space"
   ]
  },
  {
   "cell_type": "markdown",
   "metadata": {},
   "source": [
    "Initialization"
   ]
  },
  {
   "cell_type": "code",
   "execution_count": 244,
   "metadata": {},
   "outputs": [],
   "source": [
    "def predict(w,x):\n",
    "    return np.dot(w,x)\n",
    "\n",
    "def eta(i,A,B):\n",
    "    return A/(B+i)"
   ]
  },
  {
   "cell_type": "code",
   "execution_count": 304,
   "metadata": {},
   "outputs": [],
   "source": [
    "epoch           = 100\n",
    "N               = X_train.shape[0]\n",
    "A               = [0.01, 0.1, 1, 10, 100]\n",
    "B               = [1, 10, 100, 1000]\n",
    "w_init          = np.random.uniform(-0.1, 0.1, 5)\n",
    "J_init          = np.sum(np.power(predict(w_init,X_train.T) - y_train, 2))/N\n",
    "error_rms       = np.zeros((len(A),len(B),epoch))\n",
    "final_w         = np.zeros((len(A),len(B),5))\n",
    "exploding_gd    = np.zeros((len(A),len(B)))"
   ]
  },
  {
   "cell_type": "code",
   "execution_count": 305,
   "metadata": {},
   "outputs": [
    {
     "data": {
      "text/plain": [
       "454.23375571772203"
      ]
     },
     "execution_count": 305,
     "metadata": {},
     "output_type": "execute_result"
    }
   ],
   "source": [
    "for (a,b) in itertools.product(np.arange(0,len(A)),np.arange(0,len(B)), repeat=1):\n",
    "    error_rms[a,b,0]    = np.power(J_init, 0.5)\n",
    "    final_w[a,b]        = w_init\n",
    "error_rms[2,0,0]"
   ]
  },
  {
   "cell_type": "code",
   "execution_count": 306,
   "metadata": {},
   "outputs": [
    {
     "data": {
      "text/plain": [
       "array([[[454.23375572,   0.        ,   0.        , ...,   0.        ,\n",
       "           0.        ,   0.        ],\n",
       "        [454.23375572,   0.        ,   0.        , ...,   0.        ,\n",
       "           0.        ,   0.        ],\n",
       "        [454.23375572,   0.        ,   0.        , ...,   0.        ,\n",
       "           0.        ,   0.        ],\n",
       "        [454.23375572,   0.        ,   0.        , ...,   0.        ,\n",
       "           0.        ,   0.        ]],\n",
       "\n",
       "       [[454.23375572,   0.        ,   0.        , ...,   0.        ,\n",
       "           0.        ,   0.        ],\n",
       "        [454.23375572,   0.        ,   0.        , ...,   0.        ,\n",
       "           0.        ,   0.        ],\n",
       "        [454.23375572,   0.        ,   0.        , ...,   0.        ,\n",
       "           0.        ,   0.        ],\n",
       "        [454.23375572,   0.        ,   0.        , ...,   0.        ,\n",
       "           0.        ,   0.        ]],\n",
       "\n",
       "       [[454.23375572,   0.        ,   0.        , ...,   0.        ,\n",
       "           0.        ,   0.        ],\n",
       "        [454.23375572,   0.        ,   0.        , ...,   0.        ,\n",
       "           0.        ,   0.        ],\n",
       "        [454.23375572,   0.        ,   0.        , ...,   0.        ,\n",
       "           0.        ,   0.        ],\n",
       "        [454.23375572,   0.        ,   0.        , ...,   0.        ,\n",
       "           0.        ,   0.        ]],\n",
       "\n",
       "       [[454.23375572,   0.        ,   0.        , ...,   0.        ,\n",
       "           0.        ,   0.        ],\n",
       "        [454.23375572,   0.        ,   0.        , ...,   0.        ,\n",
       "           0.        ,   0.        ],\n",
       "        [454.23375572,   0.        ,   0.        , ...,   0.        ,\n",
       "           0.        ,   0.        ],\n",
       "        [454.23375572,   0.        ,   0.        , ...,   0.        ,\n",
       "           0.        ,   0.        ]],\n",
       "\n",
       "       [[454.23375572,   0.        ,   0.        , ...,   0.        ,\n",
       "           0.        ,   0.        ],\n",
       "        [454.23375572,   0.        ,   0.        , ...,   0.        ,\n",
       "           0.        ,   0.        ],\n",
       "        [454.23375572,   0.        ,   0.        , ...,   0.        ,\n",
       "           0.        ,   0.        ],\n",
       "        [454.23375572,   0.        ,   0.        , ...,   0.        ,\n",
       "           0.        ,   0.        ]]])"
      ]
     },
     "execution_count": 306,
     "metadata": {},
     "output_type": "execute_result"
    }
   ],
   "source": [
    "error_rms"
   ]
  },
  {
   "cell_type": "code",
   "execution_count": 307,
   "metadata": {},
   "outputs": [
    {
     "name": "stdout",
     "output_type": "stream",
     "text": [
      "start with pair A =  0.01  and B = 1\n",
      "halting condition 2 is met\n",
      "start with pair A =  0.01  and B = 10\n",
      "halting condition 2 is met\n",
      "start with pair A =  0.01  and B = 100\n",
      "halting condition 2 is met\n",
      "start with pair A =  0.01  and B = 1000\n",
      "halting condition 2 is met\n",
      "start with pair A =  0.1  and B = 1\n",
      "halting condition 2 is met\n",
      "start with pair A =  0.1  and B = 10\n",
      "halting condition 2 is met\n",
      "start with pair A =  0.1  and B = 100\n",
      "halting condition 2 is met\n",
      "start with pair A =  0.1  and B = 1000\n",
      "halting condition 2 is met\n",
      "start with pair A =  1  and B = 1\n",
      "halting condition 2 is met\n",
      "start with pair A =  1  and B = 10\n",
      "halting condition 2 is met\n",
      "start with pair A =  1  and B = 100\n",
      "halting condition 2 is met\n",
      "start with pair A =  1  and B = 1000\n",
      "halting condition 2 is met\n",
      "start with pair A =  10  and B = 1\n",
      "halting condition 2 is met\n",
      "start with pair A =  10  and B = 10\n",
      "halting condition 2 is met\n",
      "start with pair A =  10  and B = 100\n",
      "halting condition 2 is met\n",
      "start with pair A =  10  and B = 1000\n",
      "halting condition 2 is met\n",
      "start with pair A =  100  and B = 1\n",
      "The loss is not decresingly converged, learning rate is too big\n",
      "start with pair A =  100  and B = 10\n",
      "halting condition 2 is met\n",
      "start with pair A =  100  and B = 100\n",
      "halting condition 2 is met\n",
      "start with pair A =  100  and B = 1000\n",
      "halting condition 2 is met\n"
     ]
    }
   ],
   "source": [
    "class increasedloss(Exception): pass\n",
    "\n",
    "for (a,b) in itertools.product(np.arange(0,len(A)),np.arange(0,len(B)), repeat=1):\n",
    "# for (a,b) in itertools.product([4],[3], repeat=1):\n",
    "    w = w_init\n",
    "    J = J_init\n",
    "    J_prev = J\n",
    "    print(\"start with pair A = \",A[a], \" and B =\", B[b])\n",
    "    try:\n",
    "        for e in range(1,100):\n",
    "            for n in range(N):\n",
    "                i = (e-1)*N + n\n",
    "                w = w - eta(i,A[a],B[b])*(predict(w,X_train[n])-y_train[n])*X_train[n]\n",
    "                # print(w, \"\\n\")\n",
    "                J = np.sum(np.power(predict(w,X_train.T) - y_train, 2))/N\n",
    "                # print(J)\n",
    "                if(J > 1000*J_prev):\n",
    "                    exploding_gd[a,b] = 1\n",
    "                    print(\"The loss is not decresingly converged, learning rate is too big\")\n",
    "                    raise increasedloss()\n",
    "                J_prev  = J\n",
    "            error_rms[a,b,e] = np.power(J, 0.5)\n",
    "            if(error_rms[a,b,e] < 0.001*error_rms[a,b,0]):\n",
    "                final_w[a,b] = w\n",
    "                print(\"halting condition 1 is met\")\n",
    "                break\n",
    "        final_w[a,b] = w\n",
    "        print(\"halting condition 2 is met\")\n",
    "    except increasedloss:\n",
    "        pass"
   ]
  },
  {
   "cell_type": "code",
   "execution_count": 308,
   "metadata": {},
   "outputs": [],
   "source": [
    "def hw5_plot(A,a):\n",
    "    fig, axs = plt.subplots(2, 2)\n",
    "    axs[0, 0].plot(np.arange(0,100), error_rms[a,0,:])\n",
    "    axs[0, 0].set_title('(A,B) = ('+str(A[a])+', 1)')\n",
    "    axs[0, 1].plot(np.arange(0,100), error_rms[a,1,:])\n",
    "    axs[0, 1].set_title('(A,B) = ('+str(A[a])+', 10)')\n",
    "    axs[1, 0].plot(np.arange(0,100), error_rms[a,2,:])\n",
    "    axs[1, 0].set_title('(A,B) = ('+str(A[a])+', 100)')\n",
    "    axs[1, 1].plot(np.arange(0,100), error_rms[a,3,:])\n",
    "    axs[1, 1].set_title('(A,B) = ('+str(A[a])+', 1000)')\n",
    "    for ax in axs.flat:\n",
    "        ax.set(xlabel='x-label', ylabel='y-label')\n",
    "\n",
    "    # Hide x labels and tick labels for top plots and y ticks for right plots.\n",
    "    for ax in axs.flat:\n",
    "        ax.label_outer()"
   ]
  },
  {
   "cell_type": "code",
   "execution_count": 309,
   "metadata": {},
   "outputs": [
    {
     "data": {
      "image/png": "[encoded data removed]",
      "text/plain": [
       "<Figure size 432x288 with 4 Axes>"
      ]
     },
     "metadata": {
      "needs_background": "light"
     },
     "output_type": "display_data"
    }
   ],
   "source": [
    "hw5_plot(A,0)"
   ]
  },
  {
   "cell_type": "code",
   "execution_count": 310,
   "metadata": {},
   "outputs": [
    {
     "data": {
      "image/png": "[encoded data removed]",
      "text/plain": [
       "<Figure size 432x288 with 4 Axes>"
      ]
     },
     "metadata": {
      "needs_background": "light"
     },
     "output_type": "display_data"
    }
   ],
   "source": [
    "hw5_plot(A,1)"
   ]
  },
  {
   "cell_type": "code",
   "execution_count": 311,
   "metadata": {},
   "outputs": [
    {
     "data": {
      "image/png": "[encoded data removed]",
      "text/plain": [
       "<Figure size 432x288 with 4 Axes>"
      ]
     },
     "metadata": {
      "needs_background": "light"
     },
     "output_type": "display_data"
    }
   ],
   "source": [
    "hw5_plot(A,2)"
   ]
  },
  {
   "cell_type": "code",
   "execution_count": 312,
   "metadata": {},
   "outputs": [
    {
     "data": {
      "image/png": "[encoded data removed]",
      "text/plain": [
       "<Figure size 432x288 with 4 Axes>"
      ]
     },
     "metadata": {
      "needs_background": "light"
     },
     "output_type": "display_data"
    }
   ],
   "source": [
    "hw5_plot(A,3)"
   ]
  },
  {
   "cell_type": "code",
   "execution_count": 313,
   "metadata": {},
   "outputs": [
    {
     "data": {
      "image/png": "[encoded data removed]",
      "text/plain": [
       "<Figure size 432x288 with 4 Axes>"
      ]
     },
     "metadata": {
      "needs_background": "light"
     },
     "output_type": "display_data"
    }
   ],
   "source": [
    "hw5_plot(A,4)"
   ]
  },
  {
   "cell_type": "markdown",
   "metadata": {},
   "source": [
    "Comment on above figure: The case when (A,B) = (100,1) is memory exceed doe to large J because of large learning rate => exploding weight vector"
   ]
  },
  {
   "cell_type": "markdown",
   "metadata": {},
   "source": [
    "C) Comment: \n",
    "- When A increase, the speed of halting is faster due to larger learning rate. But if A is too big in compare with B, the gradient with raise instead of decrease as learning rate is too big.\n",
    "- When B increase, the learning rate is decrease which make convergence is slower"
   ]
  },
  {
   "cell_type": "markdown",
   "metadata": {},
   "source": [
    "d) Pick the resulting best pair (𝐴, 𝐵) from (b) above and use its value of 𝑤_hat to calculate the 𝐸_rms error on the test set\n",
    "\n",
    "The best pair of (A,B) = (100,1000) based on last rms error"
   ]
  },
  {
   "cell_type": "code",
   "execution_count": 339,
   "metadata": {},
   "outputs": [
    {
     "data": {
      "text/plain": [
       "4.668997751158805"
      ]
     },
     "execution_count": 339,
     "metadata": {},
     "output_type": "execute_result"
    }
   ],
   "source": [
    "J_test = np.sum(np.power(predict(w,X_test.T) - y_test, 2))/X_test.shape[0]\n",
    "error_rms_test = np.power(J_test, 0.5)\n",
    "error_rms_test #not in dB"
   ]
  },
  {
   "cell_type": "code",
   "execution_count": 340,
   "metadata": {},
   "outputs": [
    {
     "data": {
      "text/plain": [
       "6.692236647512049"
      ]
     },
     "execution_count": 340,
     "metadata": {},
     "output_type": "execute_result"
    }
   ],
   "source": [
    "error_rms_test_db = 10*np.log10(error_rms_test)\n",
    "error_rms_test_db"
   ]
  },
  {
   "cell_type": "markdown",
   "metadata": {},
   "source": [
    "e) As a comparison, consider a trivial regressor that always outputs y_hat(x): = y_bar = {mean value of the outputs over the training data}. Calculate the 𝐸_rms of this trivial regressor on the test set."
   ]
  },
  {
   "cell_type": "code",
   "execution_count": 345,
   "metadata": {},
   "outputs": [
    {
     "data": {
      "text/plain": [
       "16.54072952844987"
      ]
     },
     "execution_count": 345,
     "metadata": {},
     "output_type": "execute_result"
    }
   ],
   "source": [
    "y_mean = np.mean(y_train) \n",
    "J_mean_test = np.sum(np.power(y_mean - y_test, 2))/X_test.shape[0]\n",
    "error_rms_mean = np.power(J_mean_test, 0.5)\n",
    "error_rms_mean #not in dB_test"
   ]
  },
  {
   "cell_type": "code",
   "execution_count": 346,
   "metadata": {},
   "outputs": [
    {
     "data": {
      "text/plain": [
       "12.185546601858855"
      ]
     },
     "execution_count": 346,
     "metadata": {},
     "output_type": "execute_result"
    }
   ],
   "source": [
    "error_rms_mean_db = 10*np.log10(error_rms_mean)\n",
    "error_rms_mean_db"
   ]
  },
  {
   "cell_type": "markdown",
   "metadata": {},
   "source": [
    "Yes, it is lower than the error of this trivial regressor but not substantially lower"
   ]
  }
 ],
 "metadata": {
  "interpreter": {
   "hash": "31969b385aa08a02107f5de2e753c41beef24e90f052bcce65562ae8685b1e89"
  },
  "kernelspec": {
   "display_name": "Python 3 (ipykernel)",
   "language": "python",
   "name": "python3"
  },
  "language_info": {
   "codemirror_mode": {
    "name": "ipython",
    "version": 3
   },
   "file_extension": ".py",
   "mimetype": "text/x-python",
   "name": "python",
   "nbconvert_exporter": "python",
   "pygments_lexer": "ipython3",
   "version": "3.9.7"
  }
 },
 "nbformat": 4,
 "nbformat_minor": 2
}
