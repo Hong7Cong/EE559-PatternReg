{
 "cells": [
  {
   "cell_type": "markdown",
   "metadata": {},
   "source": [
    "# Homework 4 Week 6 Hong Nguyen"
   ]
  },
  {
   "cell_type": "code",
   "execution_count": 182,
   "metadata": {},
   "outputs": [],
   "source": [
    "import numpy as np\n",
    "import pandas as pd\n",
    "import os\n",
    "import matplotlib.pyplot as plt\n",
    "import random"
   ]
  },
  {
   "cell_type": "code",
   "execution_count": 212,
   "metadata": {},
   "outputs": [],
   "source": [
    "def read_hw_data(file):\n",
    "    \"\"\"Reads a CSV file and returns a data matrix and the labels separatelly\"\"\"\n",
    "    data = pd.read_csv(file, header=None)\n",
    "    return data.iloc[:, :2], data.iloc[:,2]\n",
    "\n",
    "X_train, y_train = read_hw_data(\"../synthetic1_train.csv\")\n",
    "X_test, y_test = read_hw_data(\"../synthetic1_test.csv\")\n",
    "X_train = X_train.to_numpy()\n",
    "y_train = y_train.to_numpy()\n",
    "X_test = X_test.to_numpy()\n",
    "y_test = y_test.to_numpy()\n"
   ]
  },
  {
   "cell_type": "code",
   "execution_count": 144,
   "metadata": {},
   "outputs": [
    {
     "data": {
      "text/plain": [
       "100"
      ]
     },
     "execution_count": 144,
     "metadata": {},
     "output_type": "execute_result"
    }
   ],
   "source": [
    "len(X_train)"
   ]
  },
  {
   "cell_type": "code",
   "execution_count": 240,
   "metadata": {},
   "outputs": [
    {
     "data": {
      "text/plain": [
       "array([73, 86, 82, 23,  1, 42, 57, 40, 76, 69, 25, 94,  9, 41, 88, 83, 74,\n",
       "       91, 67, 95, 79, 75,  6, 72,  4, 71, 63, 62, 20, 65, 89, 60, 29, 56,\n",
       "       59, 90, 16, 84, 14, 10, 85, 44, 58, 98, 77, 26, 12, 32, 48, 54, 45,\n",
       "       36, 18,  0, 93, 53, 81, 55, 52,  5, 17, 99, 15, 80, 31, 64, 49, 43,\n",
       "       96, 47, 87, 39, 21, 24, 34, 78,  3, 27, 33, 97, 22, 35, 46, 68, 66,\n",
       "       28,  7, 37, 70, 51,  2,  8, 11, 19, 61, 50, 92, 13, 38, 30])"
      ]
     },
     "execution_count": 240,
     "metadata": {},
     "output_type": "execute_result"
    }
   ],
   "source": [
    "# Shuffle the data\n",
    "random.seed(4)\n",
    "idx = np.arange(len(X_train))\n",
    "random.shuffle(idx)\n",
    "X_train = X_train[idx]\n",
    "y_train = y_train[idx]\n",
    "idx"
   ]
  },
  {
   "cell_type": "code",
   "execution_count": 147,
   "metadata": {},
   "outputs": [],
   "source": [
    "def predict(w,x):\n",
    "    return np.where(np.dot(w,x) > 0, 1, 2)"
   ]
  },
  {
   "cell_type": "code",
   "execution_count": 241,
   "metadata": {},
   "outputs": [
    {
     "data": {
      "text/plain": [
       "array([ 1,  1,  1,  1,  1, -1, -1,  1,  1,  1,  1, -1,  1, -1, -1, -1, -1,\n",
       "       -1, -1,  1,  1,  1, -1, -1, -1,  1,  1, -1, -1,  1,  1, -1, -1,  1,\n",
       "        1, -1,  1,  1, -1, -1,  1,  1,  1,  1, -1, -1, -1, -1,  1,  1, -1,\n",
       "       -1,  1,  1, -1, -1, -1,  1, -1, -1,  1, -1, -1,  1,  1, -1, -1,  1,\n",
       "        1,  1, -1,  1, -1,  1,  1, -1, -1,  1, -1,  1, -1,  1,  1, -1, -1,\n",
       "       -1, -1, -1,  1,  1,  1,  1, -1, -1,  1,  1, -1,  1, -1, -1])"
      ]
     },
     "execution_count": 241,
     "metadata": {},
     "output_type": "execute_result"
    }
   ],
   "source": [
    "z_train = np.where(y_train == 1, 1, -1)\n",
    "z_train\n"
   ]
  },
  {
   "cell_type": "code",
   "execution_count": 242,
   "metadata": {},
   "outputs": [],
   "source": [
    "# initialization\n",
    "w0 = 0.1\n",
    "eta = 1\n",
    "epoch = 100\n",
    "space_complexity = epoch*100\n",
    "N = len(X_train)\n",
    "w = np.ones((space_complexity,X_train.shape[1]))\n",
    "J = np.ones((space_complexity,1))"
   ]
  },
  {
   "cell_type": "code",
   "execution_count": 211,
   "metadata": {},
   "outputs": [
    {
     "data": {
      "text/plain": [
       "array([-8.2418, -4.6721])"
      ]
     },
     "execution_count": 211,
     "metadata": {},
     "output_type": "execute_result"
    }
   ],
   "source": [
    "X_train[0]"
   ]
  },
  {
   "cell_type": "code",
   "execution_count": 243,
   "metadata": {},
   "outputs": [],
   "source": [
    "# Criterion function of Sequential GD update\n",
    "w[0] = w[0]*0.1\n",
    "for n in range(1,N):\n",
    "    i = n\n",
    "    J[i-1] = np.sum(predict(w[i-1],X_train.T) != y_train)\n",
    "    if(predict(w[i-1],X_train[i-1]) == y_train[i-1]): #if the prediction is right\n",
    "        w[i] = w[i-1]\n",
    "    else:\n",
    "        w[i] = w[i-1] + eta*z_train[i-1]*X_train[i-1]\n",
    "\n"
   ]
  },
  {
   "cell_type": "code",
   "execution_count": 244,
   "metadata": {},
   "outputs": [
    {
     "name": "stdout",
     "output_type": "stream",
     "text": [
      "The algorithms is haulted without convergence\n"
     ]
    }
   ],
   "source": [
    "w[0] = w[0]*0.1\n",
    "for e in range(1,epoch):\n",
    "    for n in range(1,N):\n",
    "        i = (e-1)*N + n-1\n",
    "        J[i-1] = np.sum(predict(w[n-1],X_train.T) != y_train)\n",
    "        if(J[i-1] == 0):\n",
    "            print(\"The dataset is linear separable and the algorithm converged\")\n",
    "            break\n",
    "        if(predict(w[i-1],X_train[n-1]) == y_train[n-1]): #if the prediction is right\n",
    "            w[i] = w[i-1]\n",
    "        else:\n",
    "            w[i] = w[i-1] + eta*z_train[n-1]*X_train[n-1]\n",
    "\n",
    "if(np.argmin(J[9500:]) != 0):\n",
    "    print(\"The algorithms is haulted without convergence\")"
   ]
  },
  {
   "cell_type": "markdown",
   "metadata": {},
   "source": [
    "(a)(i) Run the perceptron learning algorithm as above. Resulting w_hat vector is given by "
   ]
  },
  {
   "cell_type": "code",
   "execution_count": 245,
   "metadata": {},
   "outputs": [
    {
     "data": {
      "text/plain": [
       "array([-9.01709,  8.57042])"
      ]
     },
     "execution_count": 245,
     "metadata": {},
     "output_type": "execute_result"
    }
   ],
   "source": [
    "min_index = np.argmin(J[9500:])\n",
    "w_opt = w[9500+min_index]\n",
    "w_opt"
   ]
  },
  {
   "cell_type": "markdown",
   "metadata": {},
   "source": [
    "Final criterion function value"
   ]
  },
  {
   "cell_type": "code",
   "execution_count": 246,
   "metadata": {},
   "outputs": [
    {
     "data": {
      "text/plain": [
       "array([1.])"
      ]
     },
     "execution_count": 246,
     "metadata": {},
     "output_type": "execute_result"
    }
   ],
   "source": [
    "J[9500+min_index]"
   ]
  },
  {
   "cell_type": "markdown",
   "metadata": {},
   "source": [
    "(ii) Run the perceptron classifier on training set and test set"
   ]
  },
  {
   "cell_type": "code",
   "execution_count": 247,
   "metadata": {},
   "outputs": [
    {
     "data": {
      "text/plain": [
       "0.02"
      ]
     },
     "execution_count": 247,
     "metadata": {},
     "output_type": "execute_result"
    }
   ],
   "source": [
    "np.mean(predict(w_opt,X_train.T) != y_train)"
   ]
  },
  {
   "cell_type": "code",
   "execution_count": 248,
   "metadata": {},
   "outputs": [
    {
     "data": {
      "text/plain": [
       "0.02"
      ]
     },
     "execution_count": 248,
     "metadata": {},
     "output_type": "execute_result"
    }
   ],
   "source": [
    "np.mean(predict(w_opt,X_test.T) != y_test)"
   ]
  },
  {
   "cell_type": "markdown",
   "metadata": {},
   "source": [
    "(iii) Plot in feature space the training data points, decision boundaries, and decision regions"
   ]
  },
  {
   "cell_type": "code",
   "execution_count": 275,
   "metadata": {},
   "outputs": [
    {
     "data": {
      "image/png": "[encoded data removed]",
      "text/plain": [
       "<Figure size 432x288 with 1 Axes>"
      ]
     },
     "metadata": {
      "needs_background": "light"
     },
     "output_type": "display_data"
    }
   ],
   "source": [
    "import numpy as np\n",
    "import matplotlib.pyplot as plt\n",
    "from scipy.spatial.distance import cdist\n",
    "sample_mean = np.array([[2.5,0],[0,5]])\n",
    "label_train = y_train\n",
    "training = X_train\n",
    "nclass =  max(np.unique(label_train))\n",
    "\n",
    "# Set the feature range for ploting\n",
    "max_x = np.ceil(max(training[:, 0])) + 1\n",
    "min_x = np.floor(min(training[:, 0])) - 1\n",
    "max_y = np.ceil(max(training[:, 1])) + 1\n",
    "min_y = np.floor(min(training[:, 1])) - 1\n",
    "\n",
    "xrange = (min_x, max_x)\n",
    "yrange = (min_y, max_y)\n",
    "\n",
    "# step size for how finely you want to visualize the decision boundary.\n",
    "inc = 0.005\n",
    "\n",
    "# generate grid coordinates. this will be the basis of the decision\n",
    "# boundary visualization.\n",
    "(x, y) = np.meshgrid(np.arange(xrange[0], xrange[1]+inc/100, inc), np.arange(yrange[0], yrange[1]+inc/100, inc))\n",
    "\n",
    "# size of the (x, y) image, which will also be the size of the\n",
    "# decision boundary image that is used as the plot background.\n",
    "image_size = x.shape\n",
    "xy = np.hstack( (x.reshape(x.shape[0]*x.shape[1], 1, order='F'), y.reshape(y.shape[0]*y.shape[1], 1, order='F')) ) # make (x,y) pairs as a bunch of row vectors.\n",
    "\n",
    "# distance measure evaluations for each (x,y) pair.\n",
    "pred_label = predict(w_opt, xy.T)-1\n",
    "\n",
    "# reshape the idx (which contains the class label) into an image.\n",
    "decisionmap = pred_label.reshape(image_size, order='F')\n",
    "\n",
    "#show the image, give each coordinate a color according to its class label\n",
    "plt.imshow(decisionmap, extent=[xrange[0], xrange[1], yrange[0], yrange[1]], origin='lower')\n",
    "\n",
    "# plot the class training data.\n",
    "plt.plot(training[label_train == 1, 0],training[label_train == 1, 1], 'rx')\n",
    "plt.plot(training[label_train == 2, 0],training[label_train == 2, 1], 'go')\n",
    "if nclass == 3:\n",
    "    plt.plot(training[label_train == 3, 0],training[label_train == 3, 1], 'b*')\n",
    "\n",
    "# include legend for training data\n",
    "if nclass == 3:\n",
    "    l = plt.legend(('Class 1', 'Class 2', 'Class 3'), loc=2)\n",
    "else:\n",
    "    l = plt.legend(('Class 1', 'Class 2'), loc=2)\n",
    "plt.gca().add_artist(l)\n",
    "\n",
    "\n",
    "plt.show()\n"
   ]
  },
  {
   "cell_type": "code",
   "execution_count": 266,
   "metadata": {},
   "outputs": [
    {
     "data": {
      "text/plain": [
       "array([[-10.   ,  -9.   ],\n",
       "       [-10.   ,  -8.995],\n",
       "       [-10.   ,  -8.99 ],\n",
       "       ...,\n",
       "       [ 10.   ,   9.99 ],\n",
       "       [ 10.   ,   9.995],\n",
       "       [ 10.   ,  10.   ]])"
      ]
     },
     "execution_count": 266,
     "metadata": {},
     "output_type": "execute_result"
    }
   ],
   "source": [
    "xy"
   ]
  },
  {
   "cell_type": "code",
   "execution_count": 270,
   "metadata": {},
   "outputs": [
    {
     "data": {
      "text/plain": [
       "array([0, 0, 0, ..., 1, 1, 1])"
      ]
     },
     "execution_count": 270,
     "metadata": {},
     "output_type": "execute_result"
    }
   ],
   "source": [
    "pred_label2 = predict(w_opt, xy.T)-1\n",
    "pred_label2"
   ]
  }
 ],
 "metadata": {
  "interpreter": {
   "hash": "b87a30123c1cccc4a88ac6f23d0aff7ad5e931bb43b46a8921c247718aa6d52b"
  },
  "kernelspec": {
   "display_name": "Python 3.9.9 ('tsa')",
   "language": "python",
   "name": "python3"
  },
  "language_info": {
   "codemirror_mode": {
    "name": "ipython",
    "version": 3
   },
   "file_extension": ".py",
   "mimetype": "text/x-python",
   "name": "python",
   "nbconvert_exporter": "python",
   "pygments_lexer": "ipython3",
   "version": "3.9.7"
  },
  "orig_nbformat": 4
 },
 "nbformat": 4,
 "nbformat_minor": 2
}
