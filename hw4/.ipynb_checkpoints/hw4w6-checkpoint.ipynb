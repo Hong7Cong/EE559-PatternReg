{
 "cells": [
  {
   "cell_type": "code",
   "execution_count": 2,
   "metadata": {},
   "outputs": [],
   "source": [
    "import numpy as np\n",
    "import pandas as pd\n",
    "import os\n",
    "import matplotlib.pyplot as plt\n",
    "import random"
   ]
  },
  {
   "cell_type": "markdown",
   "metadata": {},
   "source": [
    "**Define some function and class**"
   ]
  },
  {
   "cell_type": "code",
   "execution_count": 126,
   "metadata": {},
   "outputs": [],
   "source": [
    "def read_synthetic_data(file):\n",
    "    \"\"\"Reads a CSV file and returns a data matrix and the labels separatelly\"\"\"\n",
    "    data = pd.read_csv(file, header=None)\n",
    "    return data.iloc[:, :2], data.iloc[:,2]"
   ]
  },
  {
   "cell_type": "code",
   "execution_count": 168,
   "metadata": {},
   "outputs": [],
   "source": [
    "def read_wine_data(file):\n",
    "    \"\"\"Reads a CSV file and returns a data matrix and the labels separatelly\"\"\"\n",
    "    data = pd.read_csv(file, header=None)\n",
    "    return data.iloc[:, :13], data.iloc[:,13]"
   ]
  },
  {
   "cell_type": "code",
   "execution_count": 139,
   "metadata": {},
   "outputs": [],
   "source": [
    "class perceptron_2class():\n",
    "    def __init__(self):  \n",
    "        self.eta = 1\n",
    "        self.epoch = 100\n",
    "        self.space_complexity = 10000\n",
    "        self.N = None\n",
    "        self.w = None\n",
    "        self.J = None\n",
    "    def predict(self,w,x):\n",
    "        return np.where(np.dot(w,x) > 0, 1, 2)\n",
    "    def train(self, X_train, y_train):\n",
    "        self.N = len(X_train)\n",
    "        self.w = np.ones((self.space_complexity,X_train.shape[1]))\n",
    "        self.J = np.ones((self.space_complexity,1))\n",
    "        self.w[0] = self.w[0]*0.1\n",
    "        z_train = np.where(y_train == 1, 1, -1)\n",
    "        for e in range(1,self.epoch):\n",
    "            for n in range(1,self.N):\n",
    "                i = (e-1)*self.N + n\n",
    "                self.J[i-1] = np.sum(self.predict(self.w[n-1],X_train.T) != y_train)\n",
    "                if(self.J[i-1] == 0):\n",
    "                    print(\"The dataset is linear separable and the algorithm converged\")\n",
    "                    break\n",
    "                if(self.predict(self.w[i-1],X_train[n-1]) == y_train[n-1]): #if the prediction is right\n",
    "                    self.w[i] = self.w[i-1]\n",
    "                else:\n",
    "                    self.w[i] = self.w[i-1] + self.eta*z_train[n-1]*X_train[n-1]\n",
    "        if(np.argmin(self.J[9500:]) != 0):\n",
    "            print(\"The algorithms is haulted without convergence\")\n",
    "        return {\"w\":self.w, \"J\":self.J}\n",
    "    def get_w(self):\n",
    "        return self.w\n",
    "    def get_J(self):\n",
    "        return self.J\n",
    "    def find_optimal_w(self):\n",
    "        min_index = np.argmin(self.J[9500:])\n",
    "        w_opt = self.w[9500+min_index]\n",
    "        return w_opt\n",
    "    def find_optimal_J(self):\n",
    "        min_index = np.argmin(self.J[9500:])\n",
    "        return self.J[9500+min_index]"
   ]
  },
  {
   "cell_type": "code",
   "execution_count": 157,
   "metadata": {},
   "outputs": [],
   "source": [
    "def plotDecBoundaries(training, label_train, model):\n",
    "    nclass =  max(np.unique(label_train))\n",
    "\n",
    "    # Set the feature range for ploting\n",
    "    max_x = np.ceil(max(training[:, 0])) + 1\n",
    "    min_x = np.floor(min(training[:, 0])) - 1\n",
    "    max_y = np.ceil(max(training[:, 1])) + 1\n",
    "    min_y = np.floor(min(training[:, 1])) - 1\n",
    "\n",
    "    xrange = (min_x, max_x)\n",
    "    yrange = (min_y, max_y)\n",
    "\n",
    "    # step size for how finely you want to visualize the decision boundary.\n",
    "    inc = 0.005\n",
    "\n",
    "    # generate grid coordinates. this will be the basis of the decision\n",
    "    # boundary visualization.\n",
    "    (x, y) = np.meshgrid(np.arange(xrange[0], xrange[1]+inc/100, inc), np.arange(yrange[0], yrange[1]+inc/100, inc))\n",
    "\n",
    "    # size of the (x, y) image, which will also be the size of the\n",
    "    # decision boundary image that is used as the plot background.\n",
    "    image_size = x.shape\n",
    "    xy = np.hstack( (x.reshape(x.shape[0]*x.shape[1], 1, order='F'), y.reshape(y.shape[0]*y.shape[1], 1, order='F')) ) # make (x,y) pairs as a bunch of row vectors.\n",
    "\n",
    "    # distance measure evaluations for each (x,y) pair.\n",
    "    pred_label = model.predict(model.find_optimal_w(), xy.T)-1\n",
    "\n",
    "    # reshape the idx (which contains the class label) into an image.\n",
    "    decisionmap = pred_label.reshape(image_size, order='F')\n",
    "\n",
    "    #show the image, give each coordinate a color according to its class label\n",
    "    plt.imshow(decisionmap, extent=[xrange[0], xrange[1], yrange[0], yrange[1]], origin='lower')\n",
    "\n",
    "    # plot the class training data.\n",
    "    plt.plot(training[label_train == 1, 0],training[label_train == 1, 1], 'rx')\n",
    "    plt.plot(training[label_train == 2, 0],training[label_train == 2, 1], 'go')\n",
    "    if nclass == 3:\n",
    "        plt.plot(training[label_train == 3, 0],training[label_train == 3, 1], 'b*')\n",
    "\n",
    "    # include legend for training data\n",
    "    if nclass == 3:\n",
    "        l = plt.legend(('Class 1', 'Class 2', 'Class 3'), loc=2)\n",
    "    else:\n",
    "        l = plt.legend(('Class 1', 'Class 2'), loc=2)\n",
    "    plt.gca().add_artist(l)\n",
    "\n",
    "\n",
    "    plt.show()"
   ]
  },
  {
   "cell_type": "markdown",
   "metadata": {},
   "source": [
    "# Part (a) For the synthetic1 datasets given with Homework 1 (Week 3), implement the following: "
   ]
  },
  {
   "cell_type": "markdown",
   "metadata": {},
   "source": [
    "(i) Run the perceptron learning algorithm to find 𝑤_hat."
   ]
  },
  {
   "cell_type": "code",
   "execution_count": 149,
   "metadata": {},
   "outputs": [],
   "source": [
    "# Import synthetic dataset\n",
    "X_train, y_train = read_synthetic_data(\"../synthetic1_train.csv\")\n",
    "X_test, y_test = read_synthetic_data(\"../synthetic1_test.csv\")\n",
    "X_train, y_train = X_train.to_numpy(), y_train.to_numpy()\n",
    "X_test, y_test = X_test.to_numpy(), y_test.to_numpy()"
   ]
  },
  {
   "cell_type": "code",
   "execution_count": 150,
   "metadata": {},
   "outputs": [
    {
     "name": "stdout",
     "output_type": "stream",
     "text": [
      "The algorithms is haulted without convergence\n"
     ]
    }
   ],
   "source": [
    "model1 = perceptron_2class()\n",
    "parameter = model1.train(X_train,y_train)"
   ]
  },
  {
   "cell_type": "code",
   "execution_count": 151,
   "metadata": {},
   "outputs": [
    {
     "data": {
      "text/plain": [
       "array([-13.02272,  13.6583 ])"
      ]
     },
     "execution_count": 151,
     "metadata": {},
     "output_type": "execute_result"
    }
   ],
   "source": [
    "# The optimal vector w_hat is given by\n",
    "model1.find_optimal_w()"
   ]
  },
  {
   "cell_type": "code",
   "execution_count": 154,
   "metadata": {},
   "outputs": [
    {
     "data": {
      "text/plain": [
       "array([1.])"
      ]
     },
     "execution_count": 154,
     "metadata": {},
     "output_type": "execute_result"
    }
   ],
   "source": [
    "# The optimal criterion value is given by\n",
    "model1.find_optimal_J()"
   ]
  },
  {
   "cell_type": "markdown",
   "metadata": {},
   "source": [
    "(ii) Run the perceptron classifier on the training set and the test set. Give the classification error of each."
   ]
  },
  {
   "cell_type": "code",
   "execution_count": 155,
   "metadata": {},
   "outputs": [
    {
     "data": {
      "text/plain": [
       "0.03"
      ]
     },
     "execution_count": 155,
     "metadata": {},
     "output_type": "execute_result"
    }
   ],
   "source": [
    "np.mean(model1.predict(model1.find_optimal_w(),X_train.T) != y_train)"
   ]
  },
  {
   "cell_type": "markdown",
   "metadata": {},
   "source": [
    "(iii) Plot in feature space the training data points, decision boundaries, and decision regions."
   ]
  },
  {
   "cell_type": "code",
   "execution_count": 156,
   "metadata": {},
   "outputs": [
    {
     "data": {
      "text/plain": [
       "0.03"
      ]
     },
     "execution_count": 156,
     "metadata": {},
     "output_type": "execute_result"
    }
   ],
   "source": [
    "np.mean(model1.predict(model1.find_optimal_w(),X_test.T) != y_test)"
   ]
  },
  {
   "cell_type": "code",
   "execution_count": 158,
   "metadata": {},
   "outputs": [
    {
     "data": {
      "image/png": "[encoded data removed]",
      "text/plain": [
       "<Figure size 432x288 with 1 Axes>"
      ]
     },
     "metadata": {
      "needs_background": "light"
     },
     "output_type": "display_data"
    }
   ],
   "source": [
    "plotDecBoundaries(X_train,y_train,model1)"
   ]
  },
  {
   "cell_type": "markdown",
   "metadata": {},
   "source": [
    "# Part (b) Repeat part (a) except use the synthetic2 datasets given with Homework 1 (Week 3)"
   ]
  },
  {
   "cell_type": "markdown",
   "metadata": {},
   "source": [
    "(i) Run the perceptron learning algorithm to find 𝑤_hat."
   ]
  },
  {
   "cell_type": "code",
   "execution_count": 159,
   "metadata": {},
   "outputs": [],
   "source": [
    "# Import synthetic dataset\n",
    "X_train2, y_train2 = read_synthetic_data(\"../synthetic2_train.csv\")\n",
    "X_test2, y_test2 = read_synthetic_data(\"../synthetic2_test.csv\")\n",
    "X_train2, y_train2 = X_train2.to_numpy(), y_train2.to_numpy()\n",
    "X_test2, y_test2 = X_test2.to_numpy(), y_test2.to_numpy()"
   ]
  },
  {
   "cell_type": "code",
   "execution_count": 162,
   "metadata": {},
   "outputs": [
    {
     "name": "stdout",
     "output_type": "stream",
     "text": [
      "The algorithms is haulted without convergence\n"
     ]
    }
   ],
   "source": [
    "model2 = perceptron_2class()\n",
    "parameter = model2.train(X_train2,y_train2)"
   ]
  },
  {
   "cell_type": "code",
   "execution_count": 163,
   "metadata": {},
   "outputs": [
    {
     "data": {
      "text/plain": [
       "array([-2.259945,  8.747254])"
      ]
     },
     "execution_count": 163,
     "metadata": {},
     "output_type": "execute_result"
    }
   ],
   "source": [
    "# The optimal vector w_hat is given by\n",
    "model2.find_optimal_w()"
   ]
  },
  {
   "cell_type": "code",
   "execution_count": 164,
   "metadata": {},
   "outputs": [
    {
     "data": {
      "text/plain": [
       "array([1.])"
      ]
     },
     "execution_count": 164,
     "metadata": {},
     "output_type": "execute_result"
    }
   ],
   "source": [
    "# The optimal criterion value is given by\n",
    "model1.find_optimal_J()"
   ]
  },
  {
   "cell_type": "markdown",
   "metadata": {},
   "source": [
    "(ii) Run the perceptron classifier on the training set and the test set. Give the classification error of each."
   ]
  },
  {
   "cell_type": "code",
   "execution_count": 165,
   "metadata": {},
   "outputs": [
    {
     "data": {
      "text/plain": [
       "0.03"
      ]
     },
     "execution_count": 165,
     "metadata": {},
     "output_type": "execute_result"
    }
   ],
   "source": [
    "np.mean(model2.predict(model2.find_optimal_w(),X_train2.T) != y_train2)"
   ]
  },
  {
   "cell_type": "code",
   "execution_count": 166,
   "metadata": {},
   "outputs": [
    {
     "data": {
      "text/plain": [
       "0.03"
      ]
     },
     "execution_count": 166,
     "metadata": {},
     "output_type": "execute_result"
    }
   ],
   "source": [
    "np.mean(model2.predict(model2.find_optimal_w(),X_test2.T) != y_test2)"
   ]
  },
  {
   "cell_type": "markdown",
   "metadata": {},
   "source": [
    "(iii) Plot in feature space the training data points, decision boundaries, and decision regions."
   ]
  },
  {
   "cell_type": "code",
   "execution_count": 167,
   "metadata": {},
   "outputs": [
    {
     "data": {
      "image/png": "[encoded data removed]",
      "text/plain": [
       "<Figure size 432x288 with 1 Axes>"
      ]
     },
     "metadata": {
      "needs_background": "light"
     },
     "output_type": "display_data"
    }
   ],
   "source": [
    "plotDecBoundaries(X_train2,y_train2,model2)"
   ]
  },
  {
   "cell_type": "markdown",
   "metadata": {},
   "source": [
    "# Part (c) Repeat part (a) except use the wine dataset, and use all 13 features. Use data only from classes 1 and 2 (both training data and test data), to make it a 2-class problem"
   ]
  },
  {
   "cell_type": "markdown",
   "metadata": {},
   "source": [
    "(i) Run the perceptron learning algorithm to find 𝑤_hat."
   ]
  },
  {
   "cell_type": "code",
   "execution_count": 183,
   "metadata": {},
   "outputs": [],
   "source": [
    "# Import synthetic dataset\n",
    "X_train_wine, y_train_wine = read_wine_data(\"../wine_train.csv\")\n",
    "X_test_wine, y_test_wine = read_wine_data(\"../wine_test.csv\")\n",
    "idx_train = np.where(y_train_wine != 3)\n",
    "X_train_wine_2class, y_train_wine_2class = X_train_wine.to_numpy()[idx_train], y_train_wine.to_numpy()[idx_train]\n",
    "idx_test = np.where(y_test_wine != 3)\n",
    "X_test_wine_2class, y_test_wine_2class = X_test_wine.to_numpy()[idx_test], y_test_wine.to_numpy()[idx_test]"
   ]
  },
  {
   "cell_type": "code",
   "execution_count": 184,
   "metadata": {},
   "outputs": [],
   "source": [
    "model_wine = perceptron_2class()\n",
    "parameter = model_wine.train(X_train_wine_2class,y_train_wine_2class)"
   ]
  },
  {
   "cell_type": "code",
   "execution_count": 191,
   "metadata": {},
   "outputs": [
    {
     "data": {
      "text/plain": [
       "array([1., 1., 1., 1., 1., 1., 1., 1., 1., 1., 1., 1., 1.])"
      ]
     },
     "execution_count": 191,
     "metadata": {},
     "output_type": "execute_result"
    }
   ],
   "source": [
    "# The optimal vector w_hat is given by\n",
    "model_wine.find_optimal_w()"
   ]
  },
  {
   "cell_type": "code",
   "execution_count": 187,
   "metadata": {},
   "outputs": [
    {
     "data": {
      "text/plain": [
       "array([1.])"
      ]
     },
     "execution_count": 187,
     "metadata": {},
     "output_type": "execute_result"
    }
   ],
   "source": [
    "# The optimal criterion value is given by\n",
    "model_wine.find_optimal_J()"
   ]
  },
  {
   "cell_type": "markdown",
   "metadata": {},
   "source": [
    "(ii) Run the perceptron classifier on the training set and the test set. Give the classification error of each."
   ]
  },
  {
   "cell_type": "code",
   "execution_count": 188,
   "metadata": {},
   "outputs": [
    {
     "data": {
      "text/plain": [
       "0.5384615384615384"
      ]
     },
     "execution_count": 188,
     "metadata": {},
     "output_type": "execute_result"
    }
   ],
   "source": [
    "np.mean(model_wine.predict(model_wine.find_optimal_w(),X_train_wine_2class.T) != y_train_wine_2class)"
   ]
  },
  {
   "cell_type": "code",
   "execution_count": 189,
   "metadata": {},
   "outputs": [
    {
     "data": {
      "text/plain": [
       "0.5538461538461539"
      ]
     },
     "execution_count": 189,
     "metadata": {},
     "output_type": "execute_result"
    }
   ],
   "source": [
    "np.mean(model_wine.predict(model_wine.find_optimal_w(),X_test_wine_2class.T) != y_test_wine_2class)"
   ]
  },
  {
   "cell_type": "markdown",
   "metadata": {},
   "source": [
    "**Comment 2-class data is not linear separable. It is because of the curse of dimention**"
   ]
  }
 ],
 "metadata": {
  "interpreter": {
   "hash": "31969b385aa08a02107f5de2e753c41beef24e90f052bcce65562ae8685b1e89"
  },
  "kernelspec": {
   "display_name": "Python 3",
   "language": "python",
   "name": "python3"
  },
  "language_info": {
   "codemirror_mode": {
    "name": "ipython",
    "version": 3
   },
   "file_extension": ".py",
   "mimetype": "text/x-python",
   "name": "python",
   "nbconvert_exporter": "python",
   "pygments_lexer": "ipython3",
   "version": "3.8.10"
  }
 },
 "nbformat": 4,
 "nbformat_minor": 2
}
