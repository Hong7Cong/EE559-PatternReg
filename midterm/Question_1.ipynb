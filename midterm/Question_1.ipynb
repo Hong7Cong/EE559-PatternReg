{
 "cells": [
  {
   "cell_type": "code",
   "execution_count": 15,
   "metadata": {},
   "outputs": [],
   "source": [
    "import numpy as np\n",
    "import matplotlib.pyplot as plt\n",
    "import pandas as pd\n",
    "from scipy.spatial.distance import cdist as cdist"
   ]
  },
  {
   "cell_type": "code",
   "execution_count": 24,
   "metadata": {},
   "outputs": [],
   "source": [
    "train1 = pd.read_csv(\"Pr1_dataset1/train.csv\")\n",
    "val1 = pd.read_csv(\"Pr1_dataset1/val.csv\")\n",
    "test1 = pd.read_csv(\"Pr1_dataset1/test.csv\")"
   ]
  },
  {
   "cell_type": "code",
   "execution_count": 259,
   "metadata": {},
   "outputs": [],
   "source": [
    "train2 = pd.read_csv(\"Pr1_dataset2/train_2.csv\")\n",
    "val2 = pd.read_csv(\"Pr1_dataset2/val_2.csv\")\n",
    "test2 = pd.read_csv(\"Pr1_dataset2/test_2.csv\")"
   ]
  },
  {
   "cell_type": "code",
   "execution_count": 35,
   "metadata": {},
   "outputs": [],
   "source": [
    "X_train1, y_train1 = train1.iloc[:,:2].to_numpy(), train1.iloc[:,2].to_numpy()\n",
    "X_val1, y_val1 = val1.iloc[:,:2].to_numpy(), val1.iloc[:,2].to_numpy()\n",
    "X_test1, y_test1 = test1.iloc[:,:2].to_numpy(), test1.iloc[:,2].to_numpy()"
   ]
  },
  {
   "cell_type": "code",
   "execution_count": null,
   "metadata": {},
   "outputs": [],
   "source": [
    "class nearest_mean_2class():\n",
    "    def __init__(self,X_train,y_train) -> None:\n",
    "        self.X_train = X_train\n",
    "        self.y_train = y_train\n",
    "    "
   ]
  },
  {
   "cell_type": "code",
   "execution_count": 122,
   "metadata": {},
   "outputs": [],
   "source": [
    "def RBF_kernel(x1, x2, gamma):\n",
    "    return np.exp(-gamma * cdist(x1, x2, 'euclidean'))\n",
    "\n",
    "def kernel(x1, x2, gamma):\n",
    "    return np.dot(x1,x2.T)"
   ]
  },
  {
   "cell_type": "code",
   "execution_count": 88,
   "metadata": {},
   "outputs": [],
   "source": [
    "X_train = X_train1\n",
    "y_train = y_train1\n",
    "class1_idx = np.where(y_train==1)[0]\n",
    "class2_idx = np.where(y_train==2)[0]\n",
    "N1 = class1_idx.shape[0]\n",
    "N2 = class2_idx.shape[0]\n",
    "x = X_val1[1]\n",
    "gamma = 1"
   ]
  },
  {
   "cell_type": "code",
   "execution_count": 86,
   "metadata": {},
   "outputs": [
    {
     "data": {
      "text/plain": [
       "37"
      ]
     },
     "execution_count": 86,
     "metadata": {},
     "output_type": "execute_result"
    }
   ],
   "source": [
    "x = X_val1[1]\n",
    "len(X_train[class1_idx])\n",
    "N1"
   ]
  },
  {
   "cell_type": "code",
   "execution_count": 235,
   "metadata": {},
   "outputs": [
    {
     "data": {
      "text/plain": [
       "-25.028125243229766"
      ]
     },
     "execution_count": 235,
     "metadata": {},
     "output_type": "execute_result"
    }
   ],
   "source": [
    "def g(x,kernel,gamma):\n",
    "    ans = 2/N1 * np.sum(kernel(x.reshape((1,2)),X_train[class1_idx],gamma)) \\\n",
    "        - 2/N2 * np.sum(kernel(x.reshape((1,2)),X_train[class2_idx],gamma)) \\\n",
    "        - 1/N1**2 * np.sum(np.sum(kernel(X_train[class1_idx],X_train[class1_idx],gamma))) \\\n",
    "        + 1/N2**2 * np.sum(np.sum(kernel(X_train[class2_idx],X_train[class2_idx],gamma)))\n",
    "    return ans\n",
    "g(x,kernel,1)"
   ]
  },
  {
   "cell_type": "code",
   "execution_count": 255,
   "metadata": {},
   "outputs": [],
   "source": [
    "k = np.arange(-2,3, 0.1)\n",
    "gamma = np.power(10,k)\n",
    "acc = np.zeros(len(gamma))\n",
    "for j in range(len(gamma)):\n",
    "        predicted = []\n",
    "        for i in range(len(X_val1)):\n",
    "                predicted.append(np.where(g(X_val1[i],RBF_kernel,gamma[j]) > 0,1,2).tolist())\n",
    "        acc[j] = np.mean(predicted == y_val1)"
   ]
  },
  {
   "cell_type": "code",
   "execution_count": 256,
   "metadata": {},
   "outputs": [
    {
     "data": {
      "text/plain": [
       "array([0.78947368, 0.78947368, 0.78947368, 0.78947368, 0.78947368,\n",
       "       0.78947368, 0.78947368, 0.78947368, 0.78947368, 0.78947368,\n",
       "       0.78947368, 0.78947368, 0.78947368, 0.84210526, 0.84210526,\n",
       "       0.84210526, 0.84210526, 0.89473684, 0.89473684, 0.89473684,\n",
       "       0.94736842, 0.94736842, 0.94736842, 0.89473684, 0.84210526,\n",
       "       0.78947368, 0.68421053, 0.63157895, 0.52631579, 0.47368421,\n",
       "       0.42105263, 0.42105263, 0.42105263, 0.42105263, 0.42105263,\n",
       "       0.42105263, 0.42105263, 0.42105263, 0.42105263, 0.42105263,\n",
       "       0.42105263, 0.36842105, 0.36842105, 0.36842105, 0.36842105,\n",
       "       0.36842105, 0.36842105, 0.36842105, 0.36842105, 0.36842105])"
      ]
     },
     "execution_count": 256,
     "metadata": {},
     "output_type": "execute_result"
    }
   ],
   "source": [
    "acc"
   ]
  },
  {
   "cell_type": "markdown",
   "metadata": {},
   "source": [
    "k = np.arange(1,2)"
   ]
  },
  {
   "cell_type": "code",
   "execution_count": 252,
   "metadata": {},
   "outputs": [
    {
     "data": {
      "text/plain": [
       "array([1.00000000e-02, 1.25892541e-02, 1.58489319e-02, 1.99526231e-02,\n",
       "       2.51188643e-02, 3.16227766e-02, 3.98107171e-02, 5.01187234e-02,\n",
       "       6.30957344e-02, 7.94328235e-02, 1.00000000e-01, 1.25892541e-01,\n",
       "       1.58489319e-01, 1.99526231e-01, 2.51188643e-01, 3.16227766e-01,\n",
       "       3.98107171e-01, 5.01187234e-01, 6.30957344e-01, 7.94328235e-01,\n",
       "       1.00000000e+00, 1.25892541e+00, 1.58489319e+00, 1.99526231e+00,\n",
       "       2.51188643e+00, 3.16227766e+00, 3.98107171e+00, 5.01187234e+00,\n",
       "       6.30957344e+00, 7.94328235e+00, 1.00000000e+01, 1.25892541e+01,\n",
       "       1.58489319e+01, 1.99526231e+01, 2.51188643e+01, 3.16227766e+01,\n",
       "       3.98107171e+01, 5.01187234e+01, 6.30957344e+01, 7.94328235e+01,\n",
       "       1.00000000e+02, 1.25892541e+02, 1.58489319e+02, 1.99526231e+02,\n",
       "       2.51188643e+02, 3.16227766e+02, 3.98107171e+02, 5.01187234e+02,\n",
       "       6.30957344e+02, 7.94328235e+02])"
      ]
     },
     "execution_count": 252,
     "metadata": {},
     "output_type": "execute_result"
    }
   ],
   "source": [
    "k = np.arange(-2,3, 0.1)\n",
    "gamma = np.power(10,k)\n",
    "gamma"
   ]
  },
  {
   "cell_type": "code",
   "execution_count": null,
   "metadata": {},
   "outputs": [],
   "source": [
    "def plotDecBoundaries(training, label_train, model):\n",
    "    nclass =  max(np.unique(label_train))\n",
    "\n",
    "    # Set the feature range for ploting\n",
    "    max_x = np.ceil(max(training[:, 0])) + 1\n",
    "    min_x = np.floor(min(training[:, 0])) - 1\n",
    "    max_y = np.ceil(max(training[:, 1])) + 1\n",
    "    min_y = np.floor(min(training[:, 1])) - 1\n",
    "\n",
    "    xrange = (min_x, max_x)\n",
    "    yrange = (min_y, max_y)\n",
    "\n",
    "    # step size for how finely you want to visualize the decision boundary.\n",
    "    inc = 0.005\n",
    "\n",
    "    # generate grid coordinates. this will be the basis of the decision\n",
    "    # boundary visualization.\n",
    "    (x, y) = np.meshgrid(np.arange(xrange[0], xrange[1]+inc/100, inc), np.arange(yrange[0], yrange[1]+inc/100, inc))\n",
    "\n",
    "    # size of the (x, y) image, which will also be the size of the\n",
    "    # decision boundary image that is used as the plot background.\n",
    "    image_size = x.shape\n",
    "    xy = np.hstack( (x.reshape(x.shape[0]*x.shape[1], 1, order='F'), y.reshape(y.shape[0]*y.shape[1], 1, order='F')) ) # make (x,y) pairs as a bunch of row vectors.\n",
    "\n",
    "    # distance measure evaluations for each (x,y) pair.\n",
    "    pred_label = model.predict(model.find_optimal_w(), xy.T)-1\n",
    "\n",
    "    # reshape the idx (which contains the class label) into an image.\n",
    "    decisionmap = pred_label.reshape(image_size, order='F')\n",
    "\n",
    "    #show the image, give each coordinate a color according to its class label\n",
    "    plt.imshow(decisionmap, extent=[xrange[0], xrange[1], yrange[0], yrange[1]], origin='lower')\n",
    "\n",
    "    # plot the class training data.\n",
    "    plt.plot(training[label_train == 1, 0],training[label_train == 1, 1], 'rx')\n",
    "    plt.plot(training[label_train == 2, 0],training[label_train == 2, 1], 'go')\n",
    "    if nclass == 3:\n",
    "        plt.plot(training[label_train == 3, 0],training[label_train == 3, 1], 'b*')\n",
    "\n",
    "    # include legend for training data\n",
    "    if nclass == 3:\n",
    "        l = plt.legend(('Class 1', 'Class 2', 'Class 3'), loc=2)\n",
    "    else:\n",
    "        l = plt.legend(('Class 1', 'Class 2'), loc=2)\n",
    "    plt.gca().add_artist(l)\n",
    "\n",
    "\n",
    "    plt.show()"
   ]
  }
 ],
 "metadata": {
  "interpreter": {
   "hash": "84fb2fe92b14b18c056bda70d602a3106b09df8b368d4f2bd86b226979d0ed77"
  },
  "kernelspec": {
   "display_name": "Python 3.8.3 32-bit",
   "language": "python",
   "name": "python3"
  },
  "language_info": {
   "codemirror_mode": {
    "name": "ipython",
    "version": 3
   },
   "file_extension": ".py",
   "mimetype": "text/x-python",
   "name": "python",
   "nbconvert_exporter": "python",
   "pygments_lexer": "ipython3",
   "version": "3.9.7"
  },
  "orig_nbformat": 4
 },
 "nbformat": 4,
 "nbformat_minor": 2
}
