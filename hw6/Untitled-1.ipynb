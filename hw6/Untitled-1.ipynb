{
 "cells": [
  {
   "cell_type": "code",
   "execution_count": 1,
   "metadata": {},
   "outputs": [],
   "source": [
    "import numpy as np\n",
    "import matplotlib.pyplot as plt"
   ]
  },
  {
   "cell_type": "code",
   "execution_count": 2,
   "metadata": {},
   "outputs": [
    {
     "data": {
      "text/plain": [
       "True"
      ]
     },
     "execution_count": 2,
     "metadata": {},
     "output_type": "execute_result"
    }
   ],
   "source": [
    "u1 = np.array([1,2])\n",
    "u2 = np.array([2,1])\n",
    "u3 = np.array([0,1.5])\n",
    "\n",
    "z1 = 1\n",
    "z2 = 1\n",
    "z3 = -1\n",
    "\n",
    "A = np.array([[z1*z1*np.inner(u1,u1), z1*z2*np.inner(u1,u2), z1*z3*np.inner(u1,u3), -z1],\n",
    "              [z2*z1*np.inner(u2,u1), z2*z2*np.inner(u2,u2), z2*z3*np.inner(u2,u3), -z2],\n",
    "              [z3*z1*np.inner(u3,u1), z3*z2*np.inner(u3,u2), z3*z3*np.inner(u3,u3), -z3],\n",
    "              [                   z1,                    z2,                    z3,   0]])\n",
    "b = np.array([1,1,1,0])\n",
    "\n",
    "# (i) Use NumPy to invert your matrix, and to calculate the resulting values for lambda_vector and µ_vector.\n",
    "rho = np.dot(np.linalg.inv(A),b.reshape(4,1))\n",
    "\n",
    "# (ii) Check KKT conditions for lambda.\n",
    "lambda_vector = rho[0:3]\n",
    "miu = rho[3]\n",
    "KKT_condition = np.sum(lambda_vector.reshape(1,3)*[z1, z2, z3]) < 1e-15\n",
    "KKT_condition"
   ]
  },
  {
   "cell_type": "code",
   "execution_count": 3,
   "metadata": {},
   "outputs": [
    {
     "data": {
      "text/plain": [
       "array([[ True],\n",
       "       [False],\n",
       "       [ True]])"
      ]
     },
     "execution_count": 3,
     "metadata": {},
     "output_type": "execute_result"
    }
   ],
   "source": [
    "# (iii) Calculate the optimal (nonaugmented) weight vector 𝑤∗ by using your result from Problem 1(c)(i). \n",
    "# And, find the optimal bias term 𝑤' using one of the KKT conditions from Problem 1(b).\n",
    "w_star = lambda_vector[0]*z1*u1 + lambda_vector[1]*z2*u2 + lambda_vector[2]*z3*u3\n",
    "w0 = 1/z1 - np.inner(w_star,u1)\n",
    "\n",
    "# (iv) Check that the resulting 𝑤 and 𝑤' satisfy the KKT conditions on 𝑤 and 𝑤' of Pr.1(c).\n",
    "# Condition 1:\n",
    "lambda_vector > 0"
   ]
  },
  {
   "cell_type": "code",
   "execution_count": 6,
   "metadata": {},
   "outputs": [
    {
     "data": {
      "text/plain": [
       "array([[1.6],\n",
       "       [1.6],\n",
       "       [2.2]])"
      ]
     },
     "execution_count": 6,
     "metadata": {},
     "output_type": "execute_result"
    }
   ],
   "source": [
    "# Condition 1 is not satisfied at lambda2 < 0 ==> Set lambda2 = 0 we have\n",
    "A_later = np.array([[z1*z1*np.inner(u1,u1),  z1*z3*np.inner(u1,u3), -z1],\n",
    "              [z3*z1*np.inner(u3,u1),  z3*z3*np.inner(u3,u3), -z3],\n",
    "              [                   z1,                      z3,   0]])\n",
    "b_later = np.array([1,1,0])\n",
    "\n",
    "# (i) Use NumPy to invert your matrix, and to calculate the resulting values for lambda_vector and µ_vector.\n",
    "rho_later = np.dot(np.linalg.inv(A_later),b_later.reshape(3,1))\n",
    "rho_later"
   ]
  },
  {
   "cell_type": "code",
   "execution_count": 13,
   "metadata": {},
   "outputs": [
    {
     "data": {
      "text/plain": [
       "1.6000000000000008"
      ]
     },
     "execution_count": 13,
     "metadata": {},
     "output_type": "execute_result"
    }
   ],
   "source": [
    "float(rho_later[0])"
   ]
  },
  {
   "cell_type": "code",
   "execution_count": 14,
   "metadata": {},
   "outputs": [
    {
     "data": {
      "text/plain": [
       "True"
      ]
     },
     "execution_count": 14,
     "metadata": {},
     "output_type": "execute_result"
    }
   ],
   "source": [
    "# (ii) Check KKT conditions for lambda.\n",
    "lambda_vector = np.array([float(rho_later[0]) , 0, float(rho_later[1])])\n",
    "miu = rho_later[2]\n",
    "KKT_condition = np.sum(lambda_vector.reshape(1,3)*[z1, z2, z3]) < 1e-15\n",
    "KKT_condition"
   ]
  },
  {
   "cell_type": "code",
   "execution_count": 15,
   "metadata": {},
   "outputs": [
    {
     "data": {
      "text/plain": [
       "-2.200000000000002"
      ]
     },
     "execution_count": 15,
     "metadata": {},
     "output_type": "execute_result"
    }
   ],
   "source": [
    "# (iii) Calculate the optimal (nonaugmented) weight vector 𝑤∗ by using your result from Problem 1(c)(i). \n",
    "# And, find the optimal bias term 𝑤' using one of the KKT conditions from Problem 1(b).\n",
    "w_star = lambda_vector[0]*z1*u1 + lambda_vector[1]*z2*u2 + lambda_vector[2]*z3*u3\n",
    "w0 = 1/z1 - np.inner(w_star,u1)\n",
    "w0"
   ]
  },
  {
   "cell_type": "code",
   "execution_count": 17,
   "metadata": {},
   "outputs": [
    {
     "data": {
      "text/plain": [
       "array([ True,  True,  True])"
      ]
     },
     "execution_count": 17,
     "metadata": {},
     "output_type": "execute_result"
    }
   ],
   "source": [
    "# (iv) Check that the resulting 𝑤 and 𝑤' satisfy the KKT conditions on 𝑤 and 𝑤' of Pr.1(c).\n",
    "# Condition 1:\n",
    "lambda_vector >= 0"
   ]
  },
  {
   "cell_type": "code",
   "execution_count": 22,
   "metadata": {},
   "outputs": [
    {
     "data": {
      "text/plain": [
       "True"
      ]
     },
     "execution_count": 22,
     "metadata": {},
     "output_type": "execute_result"
    }
   ],
   "source": [
    "# Condition 2:\n",
    "lambda_vector[0]*(z1*(np.inner(w_star,u1) + w0)-1) < 1e-15   "
   ]
  },
  {
   "cell_type": "code",
   "execution_count": 23,
   "metadata": {},
   "outputs": [
    {
     "data": {
      "text/plain": [
       "True"
      ]
     },
     "execution_count": 23,
     "metadata": {},
     "output_type": "execute_result"
    }
   ],
   "source": [
    "lambda_vector[1]*(z2*(np.inner(w_star,u2) + w0)-1) < 1e-15"
   ]
  },
  {
   "cell_type": "code",
   "execution_count": 26,
   "metadata": {},
   "outputs": [
    {
     "data": {
      "text/plain": [
       "True"
      ]
     },
     "execution_count": 26,
     "metadata": {},
     "output_type": "execute_result"
    }
   ],
   "source": [
    "lambda_vector[2]*(z3*(np.inner(w_star,u3) + w0)-1) < 1e-14"
   ]
  },
  {
   "cell_type": "code",
   "execution_count": 27,
   "metadata": {},
   "outputs": [
    {
     "data": {
      "image/png": "[encoded data removed]",
      "text/plain": [
       "<Figure size 432x288 with 1 Axes>"
      ]
     },
     "metadata": {
      "needs_background": "light"
     },
     "output_type": "display_data"
    }
   ],
   "source": [
    "x = np.arange(0.0, 2.0, 0.01)\n",
    "y1 = (1-w0-w_star[0]*x)/w_star[1]\n",
    "y2 = (-1-w0-w_star[0]*x)/w_star[1]\n",
    "\n",
    "plt.scatter([u1[0],u2[0],u3[0]],[u1[1],u2[1], u3[1]],c=['r','r','b'])\n",
    "plt.plot(x,y1)\n",
    "plt.plot(x,y2)\n",
    "plt.show()"
   ]
  }
 ],
 "metadata": {
  "interpreter": {
   "hash": "31969b385aa08a02107f5de2e753c41beef24e90f052bcce65562ae8685b1e89"
  },
  "kernelspec": {
   "display_name": "Python 3.9.7 ('tsa')",
   "language": "python",
   "name": "python3"
  },
  "language_info": {
   "codemirror_mode": {
    "name": "ipython",
    "version": 3
   },
   "file_extension": ".py",
   "mimetype": "text/x-python",
   "name": "python",
   "nbconvert_exporter": "python",
   "pygments_lexer": "ipython3",
   "version": "3.9.7"
  },
  "orig_nbformat": 4
 },
 "nbformat": 4,
 "nbformat_minor": 2
}
