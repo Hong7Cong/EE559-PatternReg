{
 "cells": [
  {
   "cell_type": "code",
   "execution_count": 64,
   "metadata": {},
   "outputs": [],
   "source": [
    "import numpy as np\n",
    "import matplotlib.pyplot as plt"
   ]
  },
  {
   "cell_type": "code",
   "execution_count": 65,
   "metadata": {},
   "outputs": [],
   "source": [
    "u1 = np.array([1,2])\n",
    "u2 = np.array([2,1])\n",
    "u3 = np.array([0,0])\n",
    "u3_prime = np.array([1,1])\n",
    "u3_prime2 = np.array([0,1.5])\n",
    "z1 = 1\n",
    "z2 = 1\n",
    "z3 = -1"
   ]
  },
  {
   "cell_type": "markdown",
   "metadata": {},
   "source": [
    "### (b)-(e) Write code in Python to solve lambda_vec for and µ, calculate 𝑤∗ and 𝑤' , and check the KKT conditions"
   ]
  },
  {
   "cell_type": "markdown",
   "metadata": {},
   "source": [
    "(b) Use NumPy to invert your matrix, and to calculate the resulting values for labda_vector and µ"
   ]
  },
  {
   "cell_type": "code",
   "execution_count": 66,
   "metadata": {},
   "outputs": [],
   "source": [
    "def question2(z1, z2, z3, u1, u2, u3):\n",
    "    A = np.array([[z1*z1*np.inner(u1,u1), z1*z2*np.inner(u1,u2), z1*z3*np.inner(u1,u3), -z1],\n",
    "                [z2*z1*np.inner(u2,u1), z2*z2*np.inner(u2,u2), z2*z3*np.inner(u2,u3), -z2],\n",
    "                [z3*z1*np.inner(u3,u1), z3*z2*np.inner(u3,u2), z3*z3*np.inner(u3,u3), -z3],\n",
    "                [                   z1,                    z2,                    z3,   0]])\n",
    "    b = np.array([1,1,1,0])\n",
    "\n",
    "    # (i) Use NumPy to invert your matrix, and to calculate the resulting values for lambda_vector and µ_vector.\n",
    "    rho = np.dot(np.linalg.inv(A),b.reshape(4,1))\n",
    "\n",
    "    # (ii) Check KKT conditions for lambda.\n",
    "    lambda_vector = rho[0:3]\n",
    "    miu = rho[3]\n",
    "    KKT_condition = np.sum(lambda_vector.reshape(1,3)*[z1, z2, z3]) < 1e-15\n",
    "    # print('KKT condition of dual Largrange fomular is:', KKT_condition)\n",
    "\n",
    "    # (iii) Calculate the optimal (nonaugmented) weight vector 𝑤∗ by using your result from Problem 1(c)(i). \n",
    "    # And, find the optimal bias term 𝑤' using one of the KKT conditions from Problem 1(b).\n",
    "    w_star = lambda_vector[0]*z1*u1 + lambda_vector[1]*z2*u2 + lambda_vector[2]*z3*u3\n",
    "    w0 = 1/z1 - np.inner(w_star,u1)\n",
    "\n",
    "    # (iv) Check that the resulting 𝑤 and 𝑤' satisfy the KKT conditions on 𝑤 and 𝑤' of Pr.1(c).\n",
    "    # Condition 1:\n",
    "    KKTcondition1 = lambda_vector >= 0\n",
    "    # Condition 2:\n",
    "    KKTcondition2 = lambda_vector[0]*(z1*(np.inner(w_star,u1) + w0)-1) < 1e-15 and\\\n",
    "        lambda_vector[1]*(z2*(np.inner(w_star,u2) + w0)-1) < 1e-15 and\\\n",
    "        lambda_vector[2]*(z3*(np.inner(w_star,u3) + w0)-1) < 1e-15\n",
    "    return KKT_condition, KKTcondition1, KKTcondition2, w_star, w0, lambda_vector, miu"
   ]
  },
  {
   "cell_type": "markdown",
   "metadata": {},
   "source": [
    "(c) Run your code on the given dataset"
   ]
  },
  {
   "cell_type": "code",
   "execution_count": 67,
   "metadata": {},
   "outputs": [
    {
     "name": "stdout",
     "output_type": "stream",
     "text": [
      "lambda1 = 0.222222, lambda2 = 0.222222, lambda3 = 0.444444, miu = 1.000000\n",
      "KKT condition of primal Largrange fomular is: True\n",
      "w_star =  [0.66666667 0.66666667] , w0 =  -0.9999999999999996\n",
      "KKT check on w_star and w0: [ True]\n"
     ]
    }
   ],
   "source": [
    "KKT_condition, KKTcondition1, KKTcondition2, w_star, w0, lambda_vector, miu = question2(z1, z2, z3, u1, u2, u3)\n",
    "print('lambda1 = %f, lambda2 = %f, lambda3 = %f, miu = %f' % (lambda_vector[0], lambda_vector[1], lambda_vector[2], miu))\n",
    "print('KKT condition of primal Largrange fomular is:', KKT_condition)\n",
    "print('w_star = ', w_star, ', w0 = ', w0)\n",
    "print('KKT check on w_star and w0:', int(sum((KKTcondition1.astype(int)))) == len(KKTcondition1) and KKTcondition2)"
   ]
  },
  {
   "cell_type": "markdown",
   "metadata": {},
   "source": [
    "(d) Plot in 2D nonaugmented feature (𝑢) space: the data points showing their class labels, the decision boundary defined by 𝑤∗ and 𝑤', and an arrow showing which side of the boundary is class 𝑆1"
   ]
  },
  {
   "cell_type": "code",
   "execution_count": 68,
   "metadata": {},
   "outputs": [
    {
     "data": {
      "image/png": "[encoded data removed]",
      "text/plain": [
       "<Figure size 432x288 with 1 Axes>"
      ]
     },
     "metadata": {
      "needs_background": "light"
     },
     "output_type": "display_data"
    }
   ],
   "source": [
    "x = np.arange(0.0, 2.0, 0.01)\n",
    "y1 = (1-w0-w_star[0]*x)/w_star[1]\n",
    "y2 = (-1-w0-w_star[0]*x)/w_star[1]\n",
    "\n",
    "plt.scatter([u1[0],u2[0],u3[0]],[u1[1],u2[1], u3[1]],c=['r','r','b'])\n",
    "plt.plot(x,y1)\n",
    "plt.plot(x,y2)\n",
    "plt.show()"
   ]
  },
  {
   "cell_type": "markdown",
   "metadata": {},
   "source": [
    "(e) Yes, the decision boundary correctly classify the training data. And it look like maximum-margin boundary  because the boudary is lie on closest data point by seeing the figure. By see the largrange formula, the KKT condition is also criteriion of max-margin with parametter lambda."
   ]
  },
  {
   "cell_type": "markdown",
   "metadata": {},
   "source": [
    "(f) Repeat parts (c) – (e) except for the following dataset:"
   ]
  },
  {
   "cell_type": "code",
   "execution_count": 69,
   "metadata": {},
   "outputs": [
    {
     "name": "stdout",
     "output_type": "stream",
     "text": [
      "lambda1 = 2.000000, lambda2 = 2.000000, lambda3 = 4.000000, miu = 5.000000\n",
      "KKT condition of primal Largrange fomular is: True\n",
      "w_star =  [2. 2.] , w0 =  -5.0\n",
      "KKT check on w_star and w0: [ True]\n"
     ]
    },
    {
     "data": {
      "image/png": "[encoded data removed]",
      "text/plain": [
       "<Figure size 432x288 with 1 Axes>"
      ]
     },
     "metadata": {
      "needs_background": "light"
     },
     "output_type": "display_data"
    }
   ],
   "source": [
    "KKT_condition, KKTcondition1, KKTcondition2, w_star, w0, lambda_vector, miu = question2(z1, z2, z3, u1, u2, u3_prime)\n",
    "print('lambda1 = %f, lambda2 = %f, lambda3 = %f, miu = %f' % (lambda_vector[0], lambda_vector[1], lambda_vector[2], miu))\n",
    "print('KKT condition of primal Largrange fomular is:', KKT_condition)\n",
    "print('w_star = ', w_star, ', w0 = ', w0)\n",
    "print('KKT check on w_star and w0:', int(sum((KKTcondition1.astype(int)))) == len(KKTcondition1) and KKTcondition2)\n",
    "\n",
    "x = np.arange(0.0, 2.0, 0.01)\n",
    "y1 = (1-w0-w_star[0]*x)/w_star[1]\n",
    "y2 = (-1-w0-w_star[0]*x)/w_star[1]\n",
    "\n",
    "plt.scatter([u1[0],u2[0],u3_prime[0]],[u1[1],u2[1], u3_prime[1]],c=['r','r','b'])\n",
    "plt.plot(x,y1)\n",
    "plt.plot(x,y2)\n",
    "plt.show()"
   ]
  },
  {
   "cell_type": "markdown",
   "metadata": {},
   "source": [
    "The decision boudary is narrow down compare with figure in (d). This is because the data point of S2 to closer to data point of S1, which make the gap is narrow down."
   ]
  },
  {
   "cell_type": "markdown",
   "metadata": {},
   "source": [
    "(g) How do you think the boundary will change (relative to (f)) if we instead use the following data"
   ]
  },
  {
   "cell_type": "code",
   "execution_count": 70,
   "metadata": {},
   "outputs": [
    {
     "name": "stdout",
     "output_type": "stream",
     "text": [
      "lambda1 = 2.222222, lambda2 = -0.444444, lambda3 = 1.777778, miu = 3.000000\n",
      "KKT condition of primal Largrange fomular is: True\n",
      "w_star =  [1.33333333 1.33333333] , w0 =  -3.0\n",
      "KKT check on w_star and w0: False\n"
     ]
    }
   ],
   "source": [
    "KKT_condition, KKTcondition1, KKTcondition2, w_star, w0, lambda_vector, miu = question2(z1, z2, z3, u1, u2, u3_prime2)\n",
    "print('lambda1 = %f, lambda2 = %f, lambda3 = %f, miu = %f' % (lambda_vector[0], lambda_vector[1], lambda_vector[2], miu))\n",
    "print('KKT condition of primal Largrange fomular is:', KKT_condition)\n",
    "print('w_star = ', w_star, ', w0 = ', w0)\n",
    "print('KKT check on w_star and w0:', int(sum((KKTcondition1.astype(int)))) == len(KKTcondition1) and KKTcondition2)"
   ]
  },
  {
   "cell_type": "code",
   "execution_count": 75,
   "metadata": {},
   "outputs": [
    {
     "name": "stdout",
     "output_type": "stream",
     "text": [
      "lambda1 = 1.600000, lambda2 = 0.000000, lambda3 = 1.600000, miu = 2.200000\n",
      "KKT condition of primal Largrange fomular is: True\n",
      "w_star =  [1.6 0.8] , w0 =  -2.200000000000002\n",
      "KKT check on w_star and w0: True\n"
     ]
    },
    {
     "data": {
      "image/png": "[encoded data removed]",
      "text/plain": [
       "<Figure size 432x288 with 1 Axes>"
      ]
     },
     "metadata": {
      "needs_background": "light"
     },
     "output_type": "display_data"
    }
   ],
   "source": [
    "# Condition 1 is not satisfied at lambda2 < 0 ==> Set lambda2 = 0 we have\n",
    "A_later = np.array([[z1*z1*np.inner(u1,u1),  z1*z3*np.inner(u1,u3_prime2), -z1],\n",
    "              [z3*z1*np.inner(u3_prime2,u1),  z3*z3*np.inner(u3_prime2,u3_prime2), -z3],\n",
    "              [                   z1,                      z3,   0]])\n",
    "b_later = np.array([1,1,0])\n",
    "\n",
    "# (i) Use NumPy to invert your matrix, and to calculate the resulting values for lambda_vector and µ_vector.\n",
    "rho_later = np.dot(np.linalg.inv(A_later),b_later.reshape(3,1))\n",
    "# (ii) Check KKT conditions for lambda.\n",
    "lambda_vector = np.array([float(rho_later[0]) , 0, float(rho_later[1])])\n",
    "miu = rho_later[2]\n",
    "KKT_condition = np.sum(lambda_vector.reshape(1,3)*[z1, z2, z3]) < 1e-15\n",
    "# (iii) Calculate the optimal (nonaugmented) weight vector 𝑤∗ by using your result from Problem 1(c)(i). \n",
    "# And, find the optimal bias term 𝑤' using one of the KKT conditions from Problem 1(b).\n",
    "w_star = lambda_vector[0]*z1*u1 + lambda_vector[1]*z2*u2 + lambda_vector[2]*z3*u3_prime2\n",
    "w0 = 1/z1 - np.inner(w_star,u1)\n",
    "# (iv) Check that the resulting 𝑤 and 𝑤' satisfy the KKT conditions on 𝑤 and 𝑤' of Pr.1(c).\n",
    "# Condition 1:\n",
    "KKTcondition1 = lambda_vector >= 0\n",
    "# Condition 2:\n",
    "KKTcondition2 = lambda_vector[0]*(z1*(np.inner(w_star,u1) + w0)-1) < 1e-15 and\\\n",
    "    lambda_vector[1]*(z2*(np.inner(w_star,u2) + w0)-1) < 1e-15 and\\\n",
    "    lambda_vector[2]*(z3*(np.inner(w_star,u3_prime2) + w0)-1) < 1e-14\n",
    "print('lambda1 = %f, lambda2 = %f, lambda3 = %f, miu = %f' % (lambda_vector[0], lambda_vector[1], lambda_vector[2], miu))\n",
    "print('KKT condition of primal Largrange fomular is:', KKT_condition)\n",
    "print('w_star = ', w_star, ', w0 = ', w0)\n",
    "print('KKT check on w_star and w0:', int(sum((KKTcondition1.astype(int)))) == len(KKTcondition1) and KKTcondition2)\n",
    "x = np.arange(0.0, 2.0, 0.01)\n",
    "y1 = (1-w0-w_star[0]*x)/w_star[1]\n",
    "y2 = (-1-w0-w_star[0]*x)/w_star[1]\n",
    "\n",
    "plt.scatter([u1[0],u2[0],u3_prime2[0]],[u1[1],u2[1], u3_prime2[1]],c=['r','r','b'])\n",
    "plt.plot(x,y1)\n",
    "plt.plot(x,y2)\n",
    "plt.show()"
   ]
  },
  {
   "cell_type": "markdown",
   "metadata": {},
   "source": [
    "Because we cant express lambda > 0 on largrange formular, it is best to track KKT condition. When the condition is not satisfied, re-calculate the w_star which make the plot is different. Now the max-margin plot can only put 1 nearest point on the boundary."
   ]
  }
 ],
 "metadata": {
  "interpreter": {
   "hash": "31969b385aa08a02107f5de2e753c41beef24e90f052bcce65562ae8685b1e89"
  },
  "kernelspec": {
   "display_name": "Python 3.9.7 ('tsa')",
   "language": "python",
   "name": "python3"
  },
  "language_info": {
   "codemirror_mode": {
    "name": "ipython",
    "version": 3
   },
   "file_extension": ".py",
   "mimetype": "text/x-python",
   "name": "python",
   "nbconvert_exporter": "python",
   "pygments_lexer": "ipython3",
   "version": "3.9.7"
  },
  "orig_nbformat": 4
 },
 "nbformat": 4,
 "nbformat_minor": 2
}
