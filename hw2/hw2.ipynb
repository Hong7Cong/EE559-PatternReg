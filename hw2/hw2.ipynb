{
 "cells": [
  {
   "cell_type": "code",
   "execution_count": 1,
   "metadata": {},
   "outputs": [],
   "source": [
    "import numpy as np\n",
    "from numpy import genfromtxt\n",
    "import matplotlib.pyplot as plt\n",
    "from numpy import linalg as LA\n",
    "import sys\n",
    "from scipy.spatial.distance import cdist\n",
    "sys.path.insert(1, 'D:/data/ee559hw1/python3/')\n",
    "# sys.path.insert(1, 'C:/Documents/GitHub/EE559-PatternReg/')\n",
    "import plotDecBoundaries\n",
    "# from plotDecBoundaries import plotDecBoundaries_2class"
   ]
  },
  {
   "cell_type": "code",
   "execution_count": 2,
   "metadata": {},
   "outputs": [],
   "source": [
    "import plotDecBoundaries"
   ]
  },
  {
   "cell_type": "code",
   "execution_count": 4,
   "metadata": {},
   "outputs": [],
   "source": [
    "# define a classifier\n",
    "class nearest_mean_classifier():\n",
    "    def __init__(self) -> None:\n",
    "        self.label_list = None\n",
    "        self.mean_list = None\n",
    "    def fit(self, synthetic1_train, labels):\n",
    "        label_list = set(labels)\n",
    "        self.label_list = label_list\n",
    "        mean_list = {}\n",
    "        for label in label_list:\n",
    "            index = np.where(labels==label)\n",
    "            mean_list[label] = np.mean(synthetic1_train[:][index],axis=0)\n",
    "        self.mean_list = mean_list\n",
    "        return mean_list\n",
    "    def predict_ovo(self):\n",
    "        # mid_12 = \n",
    "        # g_1 = \n",
    "        return 0\n",
    "    def print_all(self):\n",
    "        print('label list \\n',self.label_list)\n",
    "        print('mean_list \\n',self.mean_list)"
   ]
  },
  {
   "cell_type": "markdown",
   "metadata": {},
   "source": [
    "# Question 2"
   ]
  },
  {
   "cell_type": "code",
   "execution_count": 5,
   "metadata": {},
   "outputs": [],
   "source": [
    "wine_train = genfromtxt('D:\\data\\ee559hw1\\python3\\wine_train.csv', delimiter=',')\n",
    "wine_test = genfromtxt('D:\\data\\ee559hw1\\python3\\wine_test.csv', delimiter=',')"
   ]
  },
  {
   "cell_type": "code",
   "execution_count": 6,
   "metadata": {},
   "outputs": [],
   "source": [
    "model_wine = nearest_mean_classifier()\n",
    "mean_list_wine = model_wine.fit(wine_train[:,[0,1]], wine_train[:,13])"
   ]
  },
  {
   "cell_type": "code",
   "execution_count": 7,
   "metadata": {},
   "outputs": [
    {
     "data": {
      "text/plain": [
       "array([[13.675,  1.904]])"
      ]
     },
     "execution_count": 7,
     "metadata": {},
     "output_type": "execute_result"
    }
   ],
   "source": [
    "mean_list_wine[1].reshape(1,2)"
   ]
  },
  {
   "cell_type": "markdown",
   "metadata": {},
   "source": [
    "Classification on train data"
   ]
  },
  {
   "cell_type": "code",
   "execution_count": 8,
   "metadata": {},
   "outputs": [
    {
     "data": {
      "text/plain": [
       "0.797752808988764"
      ]
     },
     "execution_count": 8,
     "metadata": {},
     "output_type": "execute_result"
    }
   ],
   "source": [
    "g_12 = cdist(wine_train[:,:2],mean_list_wine[2].reshape(1,2), 'euclidean')\\\n",
    " - cdist(wine_train[:,:2],mean_list_wine[1].reshape(1,2), 'euclidean')\n",
    "g_23 = cdist(wine_train[:,:2],mean_list_wine[3].reshape(1,2), 'euclidean')\\\n",
    " - cdist(wine_train[:,:2],mean_list_wine[2].reshape(1,2), 'euclidean')\n",
    "g_31 = cdist(wine_train[:,:2],mean_list_wine[1].reshape(1,2), 'euclidean')\\\n",
    " - cdist(wine_train[:,:2],mean_list_wine[3].reshape(1,2), 'euclidean')\n",
    "g_21 = -g_12\n",
    "g_32 = -g_23\n",
    "g_13 = -g_31\n",
    "decision_ovo = []\n",
    "for i in range(len(wine_train)):\n",
    "    if(g_12[i]>0 and g_13[i]>0):\n",
    "        decision_ovo.append(1)\n",
    "    elif(g_23[i]>0  and g_21[i]>0):\n",
    "        decision_ovo.append(2)\n",
    "    else:\n",
    "        decision_ovo.append(3)\n",
    "decision_ovo = np.array(decision_ovo)\n",
    "true_label2 = wine_train[:,13]\n",
    "error_rate_wine = np.mean( true_label2 != decision_ovo )\n",
    "classification_accuracy = 1 - error_rate_wine\n",
    "classification_accuracy"
   ]
  },
  {
   "cell_type": "markdown",
   "metadata": {},
   "source": [
    "Classification accuracy on test data"
   ]
  },
  {
   "cell_type": "code",
   "execution_count": 9,
   "metadata": {},
   "outputs": [],
   "source": [
    "g_12 = cdist(wine_test[:,:2],mean_list_wine[2].reshape(1,2), 'euclidean')\\\n",
    " - cdist(wine_test[:,:2],mean_list_wine[1].reshape(1,2), 'euclidean')\n",
    "g_23 = cdist(wine_test[:,:2],mean_list_wine[3].reshape(1,2), 'euclidean')\\\n",
    " - cdist(wine_test[:,:2],mean_list_wine[2].reshape(1,2), 'euclidean')\n",
    "g_31 = cdist(wine_test[:,:2],mean_list_wine[1].reshape(1,2), 'euclidean')\\\n",
    " - cdist(wine_test[:,:2],mean_list_wine[3].reshape(1,2), 'euclidean')\n",
    "g_21 = -g_12\n",
    "g_32 = -g_23\n",
    "g_13 = -g_31\n"
   ]
  },
  {
   "cell_type": "code",
   "execution_count": 10,
   "metadata": {},
   "outputs": [],
   "source": [
    "decision_ovo = []\n",
    "for i in range(len(wine_test)):\n",
    "    if(g_12[i]>0 and g_13[i]>0):\n",
    "        decision_ovo.append(1)\n",
    "    elif(g_23[i]>0  and g_21[i]>0):\n",
    "        decision_ovo.append(2)\n",
    "    else:\n",
    "        decision_ovo.append(3)\n",
    "decision_ovo = np.array(decision_ovo)"
   ]
  },
  {
   "cell_type": "code",
   "execution_count": 11,
   "metadata": {},
   "outputs": [
    {
     "data": {
      "text/plain": [
       "0.7752808988764045"
      ]
     },
     "execution_count": 11,
     "metadata": {},
     "output_type": "execute_result"
    }
   ],
   "source": [
    "true_label2 = wine_test[:,13]\n",
    "error_rate_wine = np.mean( true_label2 != decision_ovo )\n",
    "classification_accuracy = 1 - error_rate_wine\n",
    "classification_accuracy"
   ]
  },
  {
   "cell_type": "markdown",
   "metadata": {},
   "source": [
    "b, Plots showing each resulting 2-class decision boundary and regions (S_k_ vs. S_j)"
   ]
  },
  {
   "cell_type": "code",
   "execution_count": 28,
   "metadata": {},
   "outputs": [
    {
     "data": {
      "image/png": "[encoded data removed]",
      "text/plain": [
       "<Figure size 432x288 with 1 Axes>"
      ]
     },
     "metadata": {
      "needs_background": "light"
     },
     "output_type": "display_data"
    }
   ],
   "source": [
    "plotDecBoundaries_12(wine_test[:,:2], wine_test[:,13],np.array(list(mean_list_wine.values())[:2][:]))"
   ]
  },
  {
   "cell_type": "code",
   "execution_count": 26,
   "metadata": {},
   "outputs": [
    {
     "data": {
      "image/png": "[encoded data removed]",
      "text/plain": [
       "<Figure size 432x288 with 1 Axes>"
      ]
     },
     "metadata": {
      "needs_background": "light"
     },
     "output_type": "display_data"
    }
   ],
   "source": [
    "plotDecBoundaries_23(wine_test[:,:2], wine_test[:,13],np.array(list(mean_list_wine.values())[1:3][:]))"
   ]
  },
  {
   "cell_type": "code",
   "execution_count": 32,
   "metadata": {},
   "outputs": [
    {
     "data": {
      "image/png": "[encoded data removed]",
      "text/plain": [
       "<Figure size 432x288 with 1 Axes>"
      ]
     },
     "metadata": {
      "needs_background": "light"
     },
     "output_type": "display_data"
    }
   ],
   "source": [
    "plotDecBoundaries_31(wine_test[:,:2], wine_test[:,13],np.array(list(mean_list_wine.values()))[[0,2],:])"
   ]
  },
  {
   "cell_type": "code",
   "execution_count": 27,
   "metadata": {},
   "outputs": [],
   "source": [
    "def plotDecBoundaries_12(training, label_train, sample_mean):\n",
    "\n",
    "    #Plot the decision boundaries and data points for minimum distance to\n",
    "    #class mean classifier\n",
    "    #\n",
    "    # training: traning data\n",
    "    # label_train: class lables correspond to training data\n",
    "    # sample_mean: mean vector for each class\n",
    "    #\n",
    "    # Total number of classes\n",
    "    nclass =  len(sample_mean)\n",
    "\n",
    "    # Set the feature range for ploting\n",
    "    max_x = np.ceil(max(training[:, 0])) + 1\n",
    "    min_x = np.floor(min(training[:, 0])) - 1\n",
    "    max_y = np.ceil(max(training[:, 1])) + 1\n",
    "    min_y = np.floor(min(training[:, 1])) - 1\n",
    "\n",
    "    xrange = (min_x, max_x)\n",
    "    yrange = (min_y, max_y)\n",
    "\n",
    "    # step size for how finely you want to visualize the decision boundary.\n",
    "    inc = 0.005\n",
    "\n",
    "    # generate grid coordinates. this will be the basis of the decision\n",
    "    # boundary visualization.\n",
    "    (x, y) = np.meshgrid(np.arange(xrange[0], xrange[1]+inc/100, inc), np.arange(yrange[0], yrange[1]+inc/100, inc))\n",
    "\n",
    "    # size of the (x, y) image, which will also be the size of the\n",
    "    # decision boundary image that is used as the plot background.\n",
    "    image_size = x.shape\n",
    "    xy = np.hstack( (x.reshape(x.shape[0]*x.shape[1], 1, order='F'), y.reshape(y.shape[0]*y.shape[1], 1, order='F')) ) # make (x,y) pairs as a bunch of row vectors.\n",
    "\n",
    "    # distance measure evaluations for each (x,y) pair.\n",
    "    dist_mat = cdist(xy, sample_mean)\n",
    "    pred_label = np.argmin(dist_mat, axis=1)\n",
    "\n",
    "    # reshape the idx (which contains the class label) into an image.\n",
    "    decisionmap = pred_label.reshape(image_size, order='F')\n",
    "\n",
    "    #show the image, give each coordinate a color according to its class label\n",
    "    plt.imshow(decisionmap, extent=[xrange[0], xrange[1], yrange[0], yrange[1]], origin='lower')\n",
    "\n",
    "    # plot the class training data.\n",
    "    plt.plot(training[label_train == 1, 0],training[label_train == 1, 1], 'rx')\n",
    "    plt.plot(training[label_train == 2, 0],training[label_train == 2, 1], 'go')\n",
    "    plt.plot(training[label_train == 3, 0],training[label_train == 3, 1], 'b*')\n",
    "    if nclass == 3:\n",
    "        plt.plot(training[label_train == 3, 0],training[label_train == 3, 1], 'b*')\n",
    "\n",
    "    # include legend for training data\n",
    "    if nclass == 3:\n",
    "        l = plt.legend(('Class 1', 'Class 2', 'Class 3'), loc=2)\n",
    "    else:\n",
    "        l = plt.legend(('Class 1', 'Class 2', 'Class 3'), loc=2)\n",
    "    plt.gca().add_artist(l)\n",
    "\n",
    "    # plot the class mean vector.\n",
    "    m1, = plt.plot(sample_mean[0,0], sample_mean[0,1], 'rd', markersize=12, markerfacecolor='r', markeredgecolor='w')\n",
    "    m2, = plt.plot(sample_mean[1,0], sample_mean[1,1], 'gd', markersize=12, markerfacecolor='g', markeredgecolor='w')\n",
    "    # m3, = plt.plot(sample_mean[2,0], sample_mean[2,1], 'bd', markersize=12, markerfacecolor='b', markeredgecolor='w')\n",
    "    if nclass == 3:\n",
    "        m3, = plt.plot(sample_mean[2,0], sample_mean[2,1], 'bd', markersize=12, markerfacecolor='b', markeredgecolor='w')\n",
    "\n",
    "    # include legend for class mean vector\n",
    "    # l1 = plt.legend([m1,m2,m3],['Class 1 Mean', 'Class 2 Mean', 'Class 3 Mean'], loc=4)\n",
    "    if nclass == 3:\n",
    "        l1 = plt.legend([m1,m2,m3],['Class 1 Mean', 'Class 2 Mean', 'Class 3 Mean'], loc=4)\n",
    "    else:\n",
    "        l1 = plt.legend([m1,m2], ['Class 1 Mean', 'Class 2 Mean'], loc=4)\n",
    "\n",
    "    plt.gca().add_artist(l1)\n",
    "\n",
    "    plt.show()"
   ]
  },
  {
   "cell_type": "code",
   "execution_count": 25,
   "metadata": {},
   "outputs": [],
   "source": [
    "def plotDecBoundaries_23(training, label_train, sample_mean):\n",
    "\n",
    "    #Plot the decision boundaries and data points for minimum distance to\n",
    "    #class mean classifier\n",
    "    #\n",
    "    # training: traning data\n",
    "    # label_train: class lables correspond to training data\n",
    "    # sample_mean: mean vector for each class\n",
    "    #\n",
    "    # Total number of classes\n",
    "    nclass =  len(sample_mean)\n",
    "\n",
    "    # Set the feature range for ploting\n",
    "    max_x = np.ceil(max(training[:, 0])) + 1\n",
    "    min_x = np.floor(min(training[:, 0])) - 1\n",
    "    max_y = np.ceil(max(training[:, 1])) + 1\n",
    "    min_y = np.floor(min(training[:, 1])) - 1\n",
    "\n",
    "    xrange = (min_x, max_x)\n",
    "    yrange = (min_y, max_y)\n",
    "\n",
    "    # step size for how finely you want to visualize the decision boundary.\n",
    "    inc = 0.005\n",
    "\n",
    "    # generate grid coordinates. this will be the basis of the decision\n",
    "    # boundary visualization.\n",
    "    (x, y) = np.meshgrid(np.arange(xrange[0], xrange[1]+inc/100, inc), np.arange(yrange[0], yrange[1]+inc/100, inc))\n",
    "\n",
    "    # size of the (x, y) image, which will also be the size of the\n",
    "    # decision boundary image that is used as the plot background.\n",
    "    image_size = x.shape\n",
    "    xy = np.hstack( (x.reshape(x.shape[0]*x.shape[1], 1, order='F'), y.reshape(y.shape[0]*y.shape[1], 1, order='F')) ) # make (x,y) pairs as a bunch of row vectors.\n",
    "\n",
    "    # distance measure evaluations for each (x,y) pair.\n",
    "    dist_mat = cdist(xy, sample_mean)\n",
    "    pred_label = np.argmin(dist_mat, axis=1)\n",
    "\n",
    "    # reshape the idx (which contains the class label) into an image.\n",
    "    decisionmap = pred_label.reshape(image_size, order='F')\n",
    "\n",
    "    #show the image, give each coordinate a color according to its class label\n",
    "    plt.imshow(decisionmap, extent=[xrange[0], xrange[1], yrange[0], yrange[1]], origin='lower')\n",
    "\n",
    "    # plot the class training data.\n",
    "    plt.plot(training[label_train == 1, 0],training[label_train == 1, 1], 'rx')\n",
    "    plt.plot(training[label_train == 2, 0],training[label_train == 2, 1], 'go')\n",
    "    plt.plot(training[label_train == 3, 0],training[label_train == 3, 1], 'b*')\n",
    "    if nclass == 3:\n",
    "        plt.plot(training[label_train == 3, 0],training[label_train == 3, 1], 'b*')\n",
    "\n",
    "    # include legend for training data\n",
    "    if nclass == 3:\n",
    "        l = plt.legend(('Class 1', 'Class 2', 'Class 3'), loc=2)\n",
    "    else:\n",
    "        l = plt.legend(('Class 1', 'Class 2', 'Class 3'), loc=2)\n",
    "    plt.gca().add_artist(l)\n",
    "\n",
    "    # plot the class mean vector.\n",
    "    m1, = plt.plot(sample_mean[0,0], sample_mean[0,1], 'gd', markersize=12, markerfacecolor='g', markeredgecolor='w')\n",
    "    m2, = plt.plot(sample_mean[1,0], sample_mean[1,1], 'bd', markersize=12, markerfacecolor='b', markeredgecolor='w')\n",
    "    # m3, = plt.plot(sample_mean[2,0], sample_mean[2,1], 'bd', markersize=12, markerfacecolor='b', markeredgecolor='w')\n",
    "    if nclass == 3:\n",
    "        m3, = plt.plot(sample_mean[2,0], sample_mean[2,1], 'bd', markersize=12, markerfacecolor='b', markeredgecolor='w')\n",
    "\n",
    "    # include legend for class mean vector\n",
    "    # l1 = plt.legend([m1,m2,m3],['Class 1 Mean', 'Class 2 Mean', 'Class 3 Mean'], loc=4)\n",
    "    if nclass == 3:\n",
    "        l1 = plt.legend([m1,m2,m3],['Class 1 Mean', 'Class 2 Mean', 'Class 3 Mean'], loc=4)\n",
    "    else:\n",
    "        l1 = plt.legend([m1,m2], ['Class 2 Mean', 'Class 3 Mean'], loc=4)\n",
    "\n",
    "    plt.gca().add_artist(l1)\n",
    "\n",
    "    plt.show()"
   ]
  },
  {
   "cell_type": "code",
   "execution_count": 31,
   "metadata": {},
   "outputs": [],
   "source": [
    "def plotDecBoundaries_31(training, label_train, sample_mean):\n",
    "\n",
    "    #Plot the decision boundaries and data points for minimum distance to\n",
    "    #class mean classifier\n",
    "    #\n",
    "    # training: traning data\n",
    "    # label_train: class lables correspond to training data\n",
    "    # sample_mean: mean vector for each class\n",
    "    #\n",
    "    # Total number of classes\n",
    "    nclass =  len(sample_mean)\n",
    "\n",
    "    # Set the feature range for ploting\n",
    "    max_x = np.ceil(max(training[:, 0])) + 1\n",
    "    min_x = np.floor(min(training[:, 0])) - 1\n",
    "    max_y = np.ceil(max(training[:, 1])) + 1\n",
    "    min_y = np.floor(min(training[:, 1])) - 1\n",
    "\n",
    "    xrange = (min_x, max_x)\n",
    "    yrange = (min_y, max_y)\n",
    "\n",
    "    # step size for how finely you want to visualize the decision boundary.\n",
    "    inc = 0.005\n",
    "\n",
    "    # generate grid coordinates. this will be the basis of the decision\n",
    "    # boundary visualization.\n",
    "    (x, y) = np.meshgrid(np.arange(xrange[0], xrange[1]+inc/100, inc), np.arange(yrange[0], yrange[1]+inc/100, inc))\n",
    "\n",
    "    # size of the (x, y) image, which will also be the size of the\n",
    "    # decision boundary image that is used as the plot background.\n",
    "    image_size = x.shape\n",
    "    xy = np.hstack( (x.reshape(x.shape[0]*x.shape[1], 1, order='F'), y.reshape(y.shape[0]*y.shape[1], 1, order='F')) ) # make (x,y) pairs as a bunch of row vectors.\n",
    "\n",
    "    # distance measure evaluations for each (x,y) pair.\n",
    "    dist_mat = cdist(xy, sample_mean)\n",
    "    pred_label = np.argmin(dist_mat, axis=1)\n",
    "\n",
    "    # reshape the idx (which contains the class label) into an image.\n",
    "    decisionmap = pred_label.reshape(image_size, order='F')\n",
    "\n",
    "    #show the image, give each coordinate a color according to its class label\n",
    "    plt.imshow(decisionmap, extent=[xrange[0], xrange[1], yrange[0], yrange[1]], origin='lower')\n",
    "\n",
    "    # plot the class training data.\n",
    "    plt.plot(training[label_train == 1, 0],training[label_train == 1, 1], 'rx')\n",
    "    plt.plot(training[label_train == 2, 0],training[label_train == 2, 1], 'go')\n",
    "    plt.plot(training[label_train == 3, 0],training[label_train == 3, 1], 'b*')\n",
    "    if nclass == 3:\n",
    "        plt.plot(training[label_train == 3, 0],training[label_train == 3, 1], 'b*')\n",
    "\n",
    "    # include legend for training data\n",
    "    if nclass == 3:\n",
    "        l = plt.legend(('Class 1', 'Class 2', 'Class 3'), loc=2)\n",
    "    else:\n",
    "        l = plt.legend(('Class 1', 'Class 2', 'Class 3'), loc=2)\n",
    "    plt.gca().add_artist(l)\n",
    "\n",
    "    # plot the class mean vector.\n",
    "    m1, = plt.plot(sample_mean[0,0], sample_mean[0,1], 'rd', markersize=12, markerfacecolor='r', markeredgecolor='w')\n",
    "    m2, = plt.plot(sample_mean[1,0], sample_mean[1,1], 'gd', markersize=12, markerfacecolor='b', markeredgecolor='w')\n",
    "    # m3, = plt.plot(sample_mean[2,0], sample_mean[2,1], 'bd', markersize=12, markerfacecolor='b', markeredgecolor='w')\n",
    "    if nclass == 3:\n",
    "        m3, = plt.plot(sample_mean[2,0], sample_mean[2,1], 'bd', markersize=12, markerfacecolor='b', markeredgecolor='w')\n",
    "\n",
    "    # include legend for class mean vector\n",
    "    # l1 = plt.legend([m1,m2,m3],['Class 1 Mean', 'Class 2 Mean', 'Class 3 Mean'], loc=4)\n",
    "    if nclass == 3:\n",
    "        l1 = plt.legend([m1,m2,m3],['Class 1 Mean', 'Class 2 Mean', 'Class 3 Mean'], loc=4)\n",
    "    else:\n",
    "        l1 = plt.legend([m1,m2], ['Class 1 Mean', 'Class 3 Mean'], loc=4)\n",
    "\n",
    "    plt.gca().add_artist(l1)\n",
    "\n",
    "    plt.show()"
   ]
  },
  {
   "cell_type": "code",
   "execution_count": 18,
   "metadata": {},
   "outputs": [],
   "source": [
    "def plotDecBoundaries(training, label_train, sample_mean):\n",
    "\n",
    "    #Plot the decision boundaries and data points for minimum distance to\n",
    "    #class mean classifier\n",
    "    #\n",
    "    # training: traning data\n",
    "    # label_train: class lables correspond to training data\n",
    "    # sample_mean: mean vector for each class\n",
    "    #\n",
    "    # Total number of classes\n",
    "    nclass =  max(np.unique(label_train))\n",
    "\n",
    "    # Set the feature range for ploting\n",
    "    max_x = np.ceil(max(training[:, 0])) + 1\n",
    "    min_x = np.floor(min(training[:, 0])) - 1\n",
    "    max_y = np.ceil(max(training[:, 1])) + 1\n",
    "    min_y = np.floor(min(training[:, 1])) - 1\n",
    "\n",
    "    xrange = (min_x, max_x)\n",
    "    yrange = (min_y, max_y)\n",
    "\n",
    "    # step size for how finely you want to visualize the decision boundary.\n",
    "    inc = 0.005\n",
    "\n",
    "    # generate grid coordinates. this will be the basis of the decision\n",
    "    # boundary visualization.\n",
    "    (x, y) = np.meshgrid(np.arange(xrange[0], xrange[1]+inc/100, inc), np.arange(yrange[0], yrange[1]+inc/100, inc))\n",
    "\n",
    "    # size of the (x, y) image, which will also be the size of the\n",
    "    # decision boundary image that is used as the plot background.\n",
    "    image_size = x.shape\n",
    "    xy = np.hstack( (x.reshape(x.shape[0]*x.shape[1], 1, order='F'), y.reshape(y.shape[0]*y.shape[1], 1, order='F')) ) # make (x,y) pairs as a bunch of row vectors.\n",
    "\n",
    "    # distance measure evaluations for each (x,y) pair.\n",
    "    dist_mat = cdist(xy, sample_mean)\n",
    "    pred_label = np.argmin(dist_mat, axis=1)\n",
    "\n",
    "    # reshape the idx (which contains the class label) into an image.\n",
    "    decisionmap = pred_label.reshape(image_size, order='F')\n",
    "\n",
    "    #show the image, give each coordinate a color according to its class label\n",
    "    plt.imshow(decisionmap, extent=[xrange[0], xrange[1], yrange[0], yrange[1]], origin='lower')\n",
    "\n",
    "    # plot the class training data.\n",
    "    plt.plot(training[label_train == 1, 0],training[label_train == 1, 1], 'rx')\n",
    "    plt.plot(training[label_train == 2, 0],training[label_train == 2, 1], 'go')\n",
    "    if nclass == 3:\n",
    "        plt.plot(training[label_train == 3, 0],training[label_train == 3, 1], 'b*')\n",
    "\n",
    "    # include legend for training data\n",
    "    if nclass == 3:\n",
    "        l = plt.legend(('Class 1', 'Class 2', 'Class 3'), loc=2)\n",
    "    else:\n",
    "        l = plt.legend(('Class 1', 'Class 2'), loc=2)\n",
    "    plt.gca().add_artist(l)\n",
    "\n",
    "    # plot the class mean vector.\n",
    "    m1, = plt.plot(sample_mean[0,0], sample_mean[0,1], 'rd', markersize=12, markerfacecolor='r', markeredgecolor='w')\n",
    "    m2, = plt.plot(sample_mean[1,0], sample_mean[1,1], 'gd', markersize=12, markerfacecolor='g', markeredgecolor='w')\n",
    "    if nclass == 3:\n",
    "        m3, = plt.plot(sample_mean[2,0], sample_mean[2,1], 'bd', markersize=12, markerfacecolor='b', markeredgecolor='w')\n",
    "\n",
    "    # include legend for class mean vector\n",
    "    if nclass == 3:\n",
    "        l1 = plt.legend([m1,m2,m3],['Class 1 Mean', 'Class 2 Mean', 'Class 3 Mean'], loc=4)\n",
    "    else:\n",
    "        l1 = plt.legend([m1,m2], ['Class 1 Mean', 'Class 2 Mean'], loc=4)\n",
    "\n",
    "    plt.gca().add_artist(l1)\n",
    "\n",
    "    plt.show()"
   ]
  },
  {
   "cell_type": "markdown",
   "metadata": {},
   "source": [
    "c, A plot showing the final decision boundaries and regions (No indeterminate region)"
   ]
  },
  {
   "cell_type": "code",
   "execution_count": 19,
   "metadata": {},
   "outputs": [
    {
     "data": {
      "image/png": "[encoded data removed]",
      "text/plain": [
       "<Figure size 432x288 with 1 Axes>"
      ]
     },
     "metadata": {
      "needs_background": "light"
     },
     "output_type": "display_data"
    }
   ],
   "source": [
    "# plot the (testing-set) data points, the resulting class means, decision boundaries, and decision regions\n",
    "plotDecBoundaries(wine_test[:,:2], wine_test[:,13],np.array(list(mean_list_wine.values())))"
   ]
  }
 ],
 "metadata": {
  "interpreter": {
   "hash": "b87a30123c1cccc4a88ac6f23d0aff7ad5e931bb43b46a8921c247718aa6d52b"
  },
  "kernelspec": {
   "display_name": "Python 3.9.9 64-bit ('tsa': conda)",
   "language": "python",
   "name": "python3"
  },
  "language_info": {
   "codemirror_mode": {
    "name": "ipython",
    "version": 3
   },
   "file_extension": ".py",
   "mimetype": "text/x-python",
   "name": "python",
   "nbconvert_exporter": "python",
   "pygments_lexer": "ipython3",
   "version": "3.9.9"
  },
  "orig_nbformat": 4
 },
 "nbformat": 4,
 "nbformat_minor": 2
}
