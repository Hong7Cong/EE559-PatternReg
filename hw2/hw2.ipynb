{
 "cells": [
  {
   "cell_type": "code",
   "execution_count": 2,
   "metadata": {},
   "outputs": [],
   "source": [
    "import numpy as np\n",
    "import matplotlib.pyplot as plt"
   ]
  },
  {
   "cell_type": "markdown",
   "metadata": {},
   "source": [
    "# Question 1: One vs Rest Decicion rule"
   ]
  },
  {
   "cell_type": "code",
   "execution_count": null,
   "metadata": {},
   "outputs": [],
   "source": [
    "x1 = np.arange(-5, 5, 0.25)\n",
    "x2 = np.arange(-5, 5, 0.25)\n",
    "g1 = - x1 - x2 + 5\n",
    "fig, ax = plt.subplots(subplot_kw={\"projection\": \"3d\"})"
   ]
  }
 ],
 "metadata": {
  "interpreter": {
   "hash": "b87a30123c1cccc4a88ac6f23d0aff7ad5e931bb43b46a8921c247718aa6d52b"
  },
  "kernelspec": {
   "display_name": "Python 3.9.9 64-bit ('tsa': conda)",
   "language": "python",
   "name": "python3"
  },
  "language_info": {
   "codemirror_mode": {
    "name": "ipython",
    "version": 3
   },
   "file_extension": ".py",
   "mimetype": "text/x-python",
   "name": "python",
   "nbconvert_exporter": "python",
   "pygments_lexer": "ipython3",
   "version": "3.9.9"
  },
  "orig_nbformat": 4
 },
 "nbformat": 4,
 "nbformat_minor": 2
}
